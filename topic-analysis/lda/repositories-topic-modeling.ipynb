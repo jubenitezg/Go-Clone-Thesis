{
 "cells": [
  {
   "cell_type": "code",
   "id": "c24e60a2b62fdf91",
   "metadata": {
    "collapsed": false,
    "ExecuteTime": {
     "end_time": "2024-10-04T04:23:12.198377Z",
     "start_time": "2024-10-04T04:23:06.566597Z"
    }
   },
   "source": "!python -m spacy download en_core_web_md -qq",
   "outputs": [
    {
     "name": "stderr",
     "output_type": "stream",
     "text": [
      "/opt/homebrew/Cellar/python@3.12/3.12.5/Frameworks/Python.framework/Versions/3.12/lib/python3.12/pty.py:95: DeprecationWarning: This process (pid=36368) is multi-threaded, use of forkpty() may lead to deadlocks in the child.\n",
      "  pid, fd = os.forkpty()\n"
     ]
    },
    {
     "name": "stdout",
     "output_type": "stream",
     "text": [
      "\u001B[38;5;2m✔ Download and installation successful\u001B[0m\r\n",
      "You can now load the package via spacy.load('en_core_web_md')\r\n"
     ]
    }
   ],
   "execution_count": 8
  },
  {
   "cell_type": "markdown",
   "id": "8bee7142b0460f1f",
   "metadata": {
    "collapsed": false
   },
   "source": [
    "# Import"
   ]
  },
  {
   "cell_type": "code",
   "id": "5c13ce051439a8f1",
   "metadata": {
    "collapsed": false,
    "ExecuteTime": {
     "end_time": "2024-10-04T04:21:02.998261Z",
     "start_time": "2024-10-04T04:21:00.511085Z"
    }
   },
   "source": [
    "from IPython.core.interactiveshell import InteractiveShell\n",
    "\n",
    "InteractiveShell.ast_node_interactivity = \"all\"  # see the value of multiple statements at once.\n",
    "\n",
    "import pandas as pd\n",
    "import matplotlib.pyplot as plt\n",
    "import seaborn as sns\n",
    "\n",
    "sns.set()\n",
    "import spacy\n",
    "import pyLDAvis.gensim_models\n",
    "\n",
    "pyLDAvis.enable_notebook()  # Visualise inside a notebook\n",
    "from gensim.corpora.dictionary import Dictionary\n",
    "from gensim.models import LdaMulticore\n",
    "from gensim.models import CoherenceModel\n",
    "\n",
    "assets_dir = 'assets'\n",
    "workers = 6\n"
   ],
   "outputs": [],
   "execution_count": 1
  },
  {
   "cell_type": "markdown",
   "id": "5e682b308b3889a1",
   "metadata": {
    "collapsed": false
   },
   "source": [
    "# Collect Data"
   ]
  },
  {
   "cell_type": "code",
   "id": "initial_id",
   "metadata": {
    "collapsed": true,
    "ExecuteTime": {
     "end_time": "2024-10-04T04:25:33.031445Z",
     "start_time": "2024-10-04T04:25:31.536370Z"
    }
   },
   "source": [
    "repos = pd.read_json(f'{assets_dir}/output.json')\n",
    "repos.info()\n",
    "repos.head()"
   ],
   "outputs": [
    {
     "name": "stdout",
     "output_type": "stream",
     "text": [
      "<class 'pandas.core.frame.DataFrame'>\n",
      "RangeIndex: 15862 entries, 0 to 15861\n",
      "Data columns (total 6 columns):\n",
      " #   Column         Non-Null Count  Dtype \n",
      "---  ------         --------------  ----- \n",
      " 0   name           15862 non-null  object\n",
      " 1   owner          15862 non-null  object\n",
      " 2   description    15862 non-null  object\n",
      " 3   topics         15862 non-null  object\n",
      " 4   url            15862 non-null  object\n",
      " 5   readme_base64  15862 non-null  object\n",
      "dtypes: object(6)\n",
      "memory usage: 743.7+ KB\n"
     ]
    },
    {
     "data": {
      "text/plain": [
       "       name       owner                                        description  \\\n",
       "0       hub      mislav  A command-line tool that makes git easier to u...   \n",
       "1   lantern  getlantern  Lantern官方版本下载 蓝灯 翻墙 代理 科学上网 外网 加速器 梯子 路由 - Быс...   \n",
       "2    direnv      direnv                            unclutter your .profile   \n",
       "3  go-cache   patrickmn  An in-memory key:value store/cache (similar to...   \n",
       "4       dns       miekg                                  DNS library in Go   \n",
       "\n",
       "                                              topics  \\\n",
       "0      [go, homebrew, git, github-api, pull-request]   \n",
       "1  [lantern, vpn, censorship, circumvention, gfw,...   \n",
       "2  [direnv, environment, shell-extension, bash, z...   \n",
       "3                               [go, cache, library]   \n",
       "4                     [dnssec, go, dns-library, dns]   \n",
       "\n",
       "                                     url  \\\n",
       "0          https://github.com/mislav/hub   \n",
       "1  https://github.com/getlantern/lantern   \n",
       "2       https://github.com/direnv/direnv   \n",
       "3  https://github.com/patrickmn/go-cache   \n",
       "4           https://github.com/miekg/dns   \n",
       "\n",
       "                                       readme_base64  \n",
       "0  aHViIGlzIGEgY29tbWFuZCBsaW5lIHRvb2wgdGhhdCB3cm...  \n",
       "1  IyBMYW50ZXJuClshW2VuXShyZXNvdXJjZXMvRW5nbGlzaC...  \n",
       "2  ZGlyZW52IC0tIHVuY2x1dHRlciB5b3VyIC5wcm9maWxlCj...  \n",
       "3  IyBnby1jYWNoZQoKZ28tY2FjaGUgaXMgYW4gaW4tbWVtb3...  \n",
       "4  WyFbQnVpbGQgU3RhdHVzXShodHRwczovL3RyYXZpcy1jaS...  "
      ],
      "text/html": [
       "<div>\n",
       "<style scoped>\n",
       "    .dataframe tbody tr th:only-of-type {\n",
       "        vertical-align: middle;\n",
       "    }\n",
       "\n",
       "    .dataframe tbody tr th {\n",
       "        vertical-align: top;\n",
       "    }\n",
       "\n",
       "    .dataframe thead th {\n",
       "        text-align: right;\n",
       "    }\n",
       "</style>\n",
       "<table border=\"1\" class=\"dataframe\">\n",
       "  <thead>\n",
       "    <tr style=\"text-align: right;\">\n",
       "      <th></th>\n",
       "      <th>name</th>\n",
       "      <th>owner</th>\n",
       "      <th>description</th>\n",
       "      <th>topics</th>\n",
       "      <th>url</th>\n",
       "      <th>readme_base64</th>\n",
       "    </tr>\n",
       "  </thead>\n",
       "  <tbody>\n",
       "    <tr>\n",
       "      <th>0</th>\n",
       "      <td>hub</td>\n",
       "      <td>mislav</td>\n",
       "      <td>A command-line tool that makes git easier to u...</td>\n",
       "      <td>[go, homebrew, git, github-api, pull-request]</td>\n",
       "      <td>https://github.com/mislav/hub</td>\n",
       "      <td>aHViIGlzIGEgY29tbWFuZCBsaW5lIHRvb2wgdGhhdCB3cm...</td>\n",
       "    </tr>\n",
       "    <tr>\n",
       "      <th>1</th>\n",
       "      <td>lantern</td>\n",
       "      <td>getlantern</td>\n",
       "      <td>Lantern官方版本下载 蓝灯 翻墙 代理 科学上网 外网 加速器 梯子 路由 - Быс...</td>\n",
       "      <td>[lantern, vpn, censorship, circumvention, gfw,...</td>\n",
       "      <td>https://github.com/getlantern/lantern</td>\n",
       "      <td>IyBMYW50ZXJuClshW2VuXShyZXNvdXJjZXMvRW5nbGlzaC...</td>\n",
       "    </tr>\n",
       "    <tr>\n",
       "      <th>2</th>\n",
       "      <td>direnv</td>\n",
       "      <td>direnv</td>\n",
       "      <td>unclutter your .profile</td>\n",
       "      <td>[direnv, environment, shell-extension, bash, z...</td>\n",
       "      <td>https://github.com/direnv/direnv</td>\n",
       "      <td>ZGlyZW52IC0tIHVuY2x1dHRlciB5b3VyIC5wcm9maWxlCj...</td>\n",
       "    </tr>\n",
       "    <tr>\n",
       "      <th>3</th>\n",
       "      <td>go-cache</td>\n",
       "      <td>patrickmn</td>\n",
       "      <td>An in-memory key:value store/cache (similar to...</td>\n",
       "      <td>[go, cache, library]</td>\n",
       "      <td>https://github.com/patrickmn/go-cache</td>\n",
       "      <td>IyBnby1jYWNoZQoKZ28tY2FjaGUgaXMgYW4gaW4tbWVtb3...</td>\n",
       "    </tr>\n",
       "    <tr>\n",
       "      <th>4</th>\n",
       "      <td>dns</td>\n",
       "      <td>miekg</td>\n",
       "      <td>DNS library in Go</td>\n",
       "      <td>[dnssec, go, dns-library, dns]</td>\n",
       "      <td>https://github.com/miekg/dns</td>\n",
       "      <td>WyFbQnVpbGQgU3RhdHVzXShodHRwczovL3RyYXZpcy1jaS...</td>\n",
       "    </tr>\n",
       "  </tbody>\n",
       "</table>\n",
       "</div>"
      ]
     },
     "execution_count": 13,
     "metadata": {},
     "output_type": "execute_result"
    }
   ],
   "execution_count": 13
  },
  {
   "cell_type": "markdown",
   "id": "15007ebdeae08050",
   "metadata": {
    "collapsed": false
   },
   "source": [
    "# Preprocess data"
   ]
  },
  {
   "cell_type": "code",
   "id": "bfc319a5e099c7e3",
   "metadata": {
    "collapsed": false,
    "ExecuteTime": {
     "end_time": "2024-10-04T04:34:10.915781Z",
     "start_time": "2024-10-04T04:33:45.435437Z"
    }
   },
   "source": [
    "from base64 import standard_b64decode\n",
    "repos['readme_base64'] = repos['readme_base64'].apply(lambda x: standard_b64decode(x).decode('utf-8'))\n",
    "repos['topics'] = repos['topics'].apply(lambda x: ' '.join(x))\n",
    "repos['merged'] = repos['description'] + ' ' + repos['topics'] + ' ' + repos['readme_base64']\n",
    "nlp = spacy.load('en_core_web_md')\n",
    "removal = ['ADV', 'PRON', 'CCONJ', 'PUNCT', 'PART', 'DET', 'ADP', 'SPACE', 'NUM', 'SYM']\n",
    "tokens = []\n",
    "\n",
    "for merged_readme in nlp.pipe(repos['merged']):\n",
    "   proj_tok = [token.lemma_.lower() for token in merged_readme if token.pos_ not in removal and not token.is_stop and token.is_alpha]\n",
    "   tokens.append(proj_tok)\n",
    "\n",
    "repos['tokens'] = tokens\n"
   ],
   "outputs": [
    {
     "name": "stderr",
     "output_type": "stream",
     "text": [
      "\n",
      "KeyboardInterrupt\n",
      "\n"
     ]
    }
   ],
   "execution_count": 15
  },
  {
   "cell_type": "markdown",
   "id": "44214243f3f216f5",
   "metadata": {
    "collapsed": false
   },
   "source": [
    "# Create a dictionary and a corpus"
   ]
  },
  {
   "cell_type": "code",
   "execution_count": 4,
   "id": "3c86735ed9ae581a",
   "metadata": {
    "ExecuteTime": {
     "end_time": "2024-04-04T03:08:58.624081Z",
     "start_time": "2024-04-04T03:08:52.750647Z"
    },
    "collapsed": false
   },
   "outputs": [],
   "source": [
    "dictionary = Dictionary(repos['tokens'])\n",
    "dictionary.filter_extremes(no_below=5, no_above=0.5, keep_n=1000)\n",
    "corpus = [dictionary.doc2bow(doc) for doc in repos['tokens']]"
   ]
  },
  {
   "cell_type": "markdown",
   "id": "bf70879bebfbb2ee",
   "metadata": {
    "collapsed": false
   },
   "source": [
    "# Evaluate the model and visualize the topics with the highest coherence score"
   ]
  },
  {
   "cell_type": "code",
   "execution_count": 5,
   "id": "175b08634c11d19d",
   "metadata": {
    "ExecuteTime": {
     "end_time": "2024-04-04T03:36:04.828171Z",
     "start_time": "2024-04-04T03:08:58.625081Z"
    },
    "collapsed": false
   },
   "outputs": [
    {
     "data": {
      "image/png": "[encoded data removed]",
      "text/plain": [
       "<Figure size 640x480 with 1 Axes>"
      ]
     },
     "metadata": {},
     "output_type": "display_data"
    },
    {
     "data": {
      "image/png": "[encoded data removed]",
      "text/plain": [
       "<Figure size 640x480 with 1 Axes>"
      ]
     },
     "metadata": {},
     "output_type": "display_data"
    }
   ],
   "source": [
    "topics = []\n",
    "score = []\n",
    "for i in range(1,20,1):\n",
    "   lda_model = LdaMulticore(corpus=corpus, id2word=dictionary, iterations=10, num_topics=i, workers = workers, passes=10, random_state=100)\n",
    "   cm = CoherenceModel(model=lda_model, corpus=corpus, dictionary=dictionary, coherence='u_mass')\n",
    "   topics.append(i)\n",
    "   score.append(cm.get_coherence())\n",
    "_=plt.plot(topics, score)\n",
    "_=plt.xlabel('Number of Topics')\n",
    "_=plt.ylabel('Coherence Score')\n",
    "plt.show()\n",
    "\n",
    "# Coherence score using C_v:\n",
    "topics = []\n",
    "score = []\n",
    "for i in range(1,20,1):\n",
    "   lda_model = LdaMulticore(corpus=corpus, id2word=dictionary, iterations=10, num_topics=i, workers = workers, passes=10, random_state=100)\n",
    "   cm = CoherenceModel(model=lda_model, texts = repos['tokens'], corpus=corpus, dictionary=dictionary, coherence='c_v')\n",
    "   topics.append(i)\n",
    "   score.append(cm.get_coherence())\n",
    "_=plt.plot(topics, score)\n",
    "_=plt.xlabel('Number of Topics')\n",
    "_=plt.ylabel('Coherence Score')\n",
    "plt.show()\n",
    "\n"
   ]
  },
  {
   "cell_type": "markdown",
   "id": "f1d79d42836a1506",
   "metadata": {
    "collapsed": false
   },
   "source": [
    "# Best Model"
   ]
  },
  {
   "metadata": {
    "ExecuteTime": {
     "end_time": "2024-10-04T04:22:28.428246Z",
     "start_time": "2024-10-04T04:22:28.397226Z"
    }
   },
   "cell_type": "code",
   "source": [
    "lda_model = LdaMulticore(corpus=corpus, id2word=dictionary, iterations=100, num_topics=5, workers = workers, passes=100)\n",
    "lda_model.print_topics(-1)\n",
    "\n",
    "import pickle\n",
    "pickle.dump(lda_model, open(f'{assets_dir}/lda_model_best.pkl', 'wb'))\n",
    "\n",
    "lda_display = pyLDAvis.gensim_models.prepare(lda_model, corpus, dictionary)\n",
    "pyLDAvis.display(lda_display)\n",
    "\n",
    "pyLDAvis.save_html(lda_display, f'{assets_dir}/index.html')"
   ],
   "id": "d509bdf579b4095f",
   "outputs": [
    {
     "ename": "NameError",
     "evalue": "name 'corpus' is not defined",
     "output_type": "error",
     "traceback": [
      "\u001B[0;31m---------------------------------------------------------------------------\u001B[0m",
      "\u001B[0;31mNameError\u001B[0m                                 Traceback (most recent call last)",
      "Cell \u001B[0;32mIn[4], line 1\u001B[0m\n\u001B[0;32m----> 1\u001B[0m lda_model \u001B[38;5;241m=\u001B[39m LdaMulticore(corpus\u001B[38;5;241m=\u001B[39m\u001B[43mcorpus\u001B[49m, id2word\u001B[38;5;241m=\u001B[39mdictionary, iterations\u001B[38;5;241m=\u001B[39m\u001B[38;5;241m100\u001B[39m, num_topics\u001B[38;5;241m=\u001B[39m\u001B[38;5;241m5\u001B[39m, workers \u001B[38;5;241m=\u001B[39m workers, passes\u001B[38;5;241m=\u001B[39m\u001B[38;5;241m100\u001B[39m)\n\u001B[1;32m      2\u001B[0m lda_model\u001B[38;5;241m.\u001B[39mprint_topics(\u001B[38;5;241m-\u001B[39m\u001B[38;5;241m1\u001B[39m)\n\u001B[1;32m      4\u001B[0m \u001B[38;5;28;01mimport\u001B[39;00m \u001B[38;5;21;01mpickle\u001B[39;00m\n",
      "\u001B[0;31mNameError\u001B[0m: name 'corpus' is not defined"
     ]
    }
   ],
   "execution_count": 4
  },
  {
   "cell_type": "markdown",
   "id": "a2ac0b0458220e15",
   "metadata": {
    "collapsed": false
   },
   "source": [
    "# Assign topics to the data\n",
    "\n",
    "Assign the topics to the data and save the topics and the data in a json file."
   ]
  },
  {
   "cell_type": "code",
   "execution_count": 7,
   "id": "566f7538b00db3b5",
   "metadata": {
    "ExecuteTime": {
     "end_time": "2024-04-04T04:03:35.260276Z",
     "start_time": "2024-04-04T04:03:24.297748Z"
    },
    "collapsed": false
   },
   "outputs": [],
   "source": [
    "import json\n",
    "\n",
    "data_topics = []\n",
    "for i in range(repos.shape[0]):\n",
    "   topics = lda_model[corpus][i]\n",
    "   topics = sorted(topics, key=lambda x: x[1], reverse=True)\n",
    "   topics = {\n",
    "        f\"topic_{topic[0]}\": str(topic[1])\n",
    "        for topic in topics\n",
    "   }\n",
    "   data_topics.append(\n",
    "      {\n",
    "         \"name\": repos.iloc[i]['name'],\n",
    "         \"owner\": repos.iloc[i]['owner'],\n",
    "         \"topics\": topics\n",
    "      }\n",
    "   )\n",
    "json.dump(lda_model.print_topics(-1), open(f'{assets_dir}/topics.json', 'w'))\n",
    "json.dump(data_topics, open(f'{assets_dir}/data_topics.json', 'w'))"
   ]
  },
  {
   "cell_type": "code",
   "execution_count": 9,
   "id": "6bd309ac6dca3519",
   "metadata": {
    "ExecuteTime": {
     "end_time": "2024-04-04T04:04:24.919988Z",
     "start_time": "2024-04-04T04:04:24.915492Z"
    },
    "collapsed": false
   },
   "outputs": [],
   "source": [
    "import pickle\n",
    "pickle.dump(lda_model, open(f'{assets_dir}/lda_model_best.pkl', 'wb'))"
   ]
  },
  {
   "cell_type": "code",
   "execution_count": null,
   "id": "43eaff3a144ac385",
   "metadata": {
    "ExecuteTime": {
     "start_time": "2024-04-04T01:35:46.423544Z"
    },
    "collapsed": false
   },
   "outputs": [],
   "source": [
    "#lda_load = pickle.load(open(f'{assets_dir}/lda_model.pkl', 'rb'))\n",
    "#lda_load.print_topics(-1)"
   ]
  }
 ],
 "metadata": {
  "kernelspec": {
   "display_name": "Python 3",
   "language": "python",
   "name": "python3"
  },
  "language_info": {
   "codemirror_mode": {
    "name": "ipython",
    "version": 3
   },
   "file_extension": ".py",
   "mimetype": "text/x-python",
   "name": "python",
   "nbconvert_exporter": "python",
   "pygments_lexer": "ipython3",
   "version": "3.12.5"
  }
 },
 "nbformat": 4,
 "nbformat_minor": 5
}
