{
 "cells": [
  {
   "cell_type": "code",
   "id": "c24e60a2b62fdf91",
   "metadata": {
    "collapsed": false,
    "ExecuteTime": {
     "end_time": "2024-11-14T03:15:01.064759Z",
     "start_time": "2024-11-14T03:14:51.976589Z"
    }
   },
   "source": [
    "!python -m spacy download en_core_web_md -qq"
   ],
   "outputs": [
    {
     "name": "stdout",
     "output_type": "stream",
     "text": [
      "\u001B[38;5;2m✔ Download and installation successful\u001B[0m\r\n",
      "You can now load the package via spacy.load('en_core_web_md')\r\n"
     ]
    }
   ],
   "execution_count": 1
  },
  {
   "cell_type": "markdown",
   "id": "8bee7142b0460f1f",
   "metadata": {
    "collapsed": false
   },
   "source": [
    "# Import"
   ]
  },
  {
   "cell_type": "code",
   "id": "5c13ce051439a8f1",
   "metadata": {
    "collapsed": false,
    "ExecuteTime": {
     "end_time": "2024-11-14T03:17:05.224008Z",
     "start_time": "2024-11-14T03:17:00.634890Z"
    }
   },
   "source": [
    "from IPython.core.interactiveshell import InteractiveShell\n",
    "\n",
    "InteractiveShell.ast_node_interactivity = \"all\"  # see the value of multiple statements at once.\n",
    "\n",
    "import pandas as pd\n",
    "import matplotlib.pyplot as plt\n",
    "import seaborn as sns\n",
    "\n",
    "sns.set()\n",
    "import spacy\n",
    "import pyLDAvis.gensim_models\n",
    "\n",
    "pyLDAvis.enable_notebook()  # Visualise inside a notebook\n",
    "from gensim.corpora.dictionary import Dictionary\n",
    "from gensim.models import LdaMulticore\n",
    "from gensim.models import CoherenceModel\n",
    "\n",
    "assets_dir = 'assets'\n",
    "workers = 6\n"
   ],
   "outputs": [],
   "execution_count": 2
  },
  {
   "cell_type": "markdown",
   "id": "5e682b308b3889a1",
   "metadata": {
    "collapsed": false
   },
   "source": [
    "# Collect Data"
   ]
  },
  {
   "cell_type": "code",
   "id": "initial_id",
   "metadata": {
    "collapsed": true,
    "ExecuteTime": {
     "end_time": "2024-11-14T03:17:10.588477Z",
     "start_time": "2024-11-14T03:17:09.088924Z"
    }
   },
   "source": [
    "repos = pd.read_json(f'{assets_dir}/output.json')\n",
    "repos.info()\n",
    "repos.head()"
   ],
   "outputs": [
    {
     "name": "stdout",
     "output_type": "stream",
     "text": [
      "<class 'pandas.core.frame.DataFrame'>\n",
      "RangeIndex: 15862 entries, 0 to 15861\n",
      "Data columns (total 6 columns):\n",
      " #   Column         Non-Null Count  Dtype \n",
      "---  ------         --------------  ----- \n",
      " 0   name           15862 non-null  object\n",
      " 1   owner          15862 non-null  object\n",
      " 2   description    15862 non-null  object\n",
      " 3   topics         15862 non-null  object\n",
      " 4   url            15862 non-null  object\n",
      " 5   readme_base64  15862 non-null  object\n",
      "dtypes: object(6)\n",
      "memory usage: 743.7+ KB\n"
     ]
    },
    {
     "data": {
      "text/plain": [
       "       name       owner                                        description  \\\n",
       "0       hub      mislav  A command-line tool that makes git easier to u...   \n",
       "1   lantern  getlantern  Lantern官方版本下载 蓝灯 翻墙 代理 科学上网 外网 加速器 梯子 路由 - Быс...   \n",
       "2    direnv      direnv                            unclutter your .profile   \n",
       "3  go-cache   patrickmn  An in-memory key:value store/cache (similar to...   \n",
       "4       dns       miekg                                  DNS library in Go   \n",
       "\n",
       "                                              topics  \\\n",
       "0      [go, homebrew, git, github-api, pull-request]   \n",
       "1  [lantern, vpn, censorship, circumvention, gfw,...   \n",
       "2  [direnv, environment, shell-extension, bash, z...   \n",
       "3                               [go, cache, library]   \n",
       "4                     [dnssec, go, dns-library, dns]   \n",
       "\n",
       "                                     url  \\\n",
       "0          https://github.com/mislav/hub   \n",
       "1  https://github.com/getlantern/lantern   \n",
       "2       https://github.com/direnv/direnv   \n",
       "3  https://github.com/patrickmn/go-cache   \n",
       "4           https://github.com/miekg/dns   \n",
       "\n",
       "                                       readme_base64  \n",
       "0  aHViIGlzIGEgY29tbWFuZCBsaW5lIHRvb2wgdGhhdCB3cm...  \n",
       "1  IyBMYW50ZXJuClshW2VuXShyZXNvdXJjZXMvRW5nbGlzaC...  \n",
       "2  ZGlyZW52IC0tIHVuY2x1dHRlciB5b3VyIC5wcm9maWxlCj...  \n",
       "3  IyBnby1jYWNoZQoKZ28tY2FjaGUgaXMgYW4gaW4tbWVtb3...  \n",
       "4  WyFbQnVpbGQgU3RhdHVzXShodHRwczovL3RyYXZpcy1jaS...  "
      ],
      "text/html": [
       "<div>\n",
       "<style scoped>\n",
       "    .dataframe tbody tr th:only-of-type {\n",
       "        vertical-align: middle;\n",
       "    }\n",
       "\n",
       "    .dataframe tbody tr th {\n",
       "        vertical-align: top;\n",
       "    }\n",
       "\n",
       "    .dataframe thead th {\n",
       "        text-align: right;\n",
       "    }\n",
       "</style>\n",
       "<table border=\"1\" class=\"dataframe\">\n",
       "  <thead>\n",
       "    <tr style=\"text-align: right;\">\n",
       "      <th></th>\n",
       "      <th>name</th>\n",
       "      <th>owner</th>\n",
       "      <th>description</th>\n",
       "      <th>topics</th>\n",
       "      <th>url</th>\n",
       "      <th>readme_base64</th>\n",
       "    </tr>\n",
       "  </thead>\n",
       "  <tbody>\n",
       "    <tr>\n",
       "      <th>0</th>\n",
       "      <td>hub</td>\n",
       "      <td>mislav</td>\n",
       "      <td>A command-line tool that makes git easier to u...</td>\n",
       "      <td>[go, homebrew, git, github-api, pull-request]</td>\n",
       "      <td>https://github.com/mislav/hub</td>\n",
       "      <td>aHViIGlzIGEgY29tbWFuZCBsaW5lIHRvb2wgdGhhdCB3cm...</td>\n",
       "    </tr>\n",
       "    <tr>\n",
       "      <th>1</th>\n",
       "      <td>lantern</td>\n",
       "      <td>getlantern</td>\n",
       "      <td>Lantern官方版本下载 蓝灯 翻墙 代理 科学上网 外网 加速器 梯子 路由 - Быс...</td>\n",
       "      <td>[lantern, vpn, censorship, circumvention, gfw,...</td>\n",
       "      <td>https://github.com/getlantern/lantern</td>\n",
       "      <td>IyBMYW50ZXJuClshW2VuXShyZXNvdXJjZXMvRW5nbGlzaC...</td>\n",
       "    </tr>\n",
       "    <tr>\n",
       "      <th>2</th>\n",
       "      <td>direnv</td>\n",
       "      <td>direnv</td>\n",
       "      <td>unclutter your .profile</td>\n",
       "      <td>[direnv, environment, shell-extension, bash, z...</td>\n",
       "      <td>https://github.com/direnv/direnv</td>\n",
       "      <td>ZGlyZW52IC0tIHVuY2x1dHRlciB5b3VyIC5wcm9maWxlCj...</td>\n",
       "    </tr>\n",
       "    <tr>\n",
       "      <th>3</th>\n",
       "      <td>go-cache</td>\n",
       "      <td>patrickmn</td>\n",
       "      <td>An in-memory key:value store/cache (similar to...</td>\n",
       "      <td>[go, cache, library]</td>\n",
       "      <td>https://github.com/patrickmn/go-cache</td>\n",
       "      <td>IyBnby1jYWNoZQoKZ28tY2FjaGUgaXMgYW4gaW4tbWVtb3...</td>\n",
       "    </tr>\n",
       "    <tr>\n",
       "      <th>4</th>\n",
       "      <td>dns</td>\n",
       "      <td>miekg</td>\n",
       "      <td>DNS library in Go</td>\n",
       "      <td>[dnssec, go, dns-library, dns]</td>\n",
       "      <td>https://github.com/miekg/dns</td>\n",
       "      <td>WyFbQnVpbGQgU3RhdHVzXShodHRwczovL3RyYXZpcy1jaS...</td>\n",
       "    </tr>\n",
       "  </tbody>\n",
       "</table>\n",
       "</div>"
      ]
     },
     "execution_count": 3,
     "metadata": {},
     "output_type": "execute_result"
    }
   ],
   "execution_count": 3
  },
  {
   "cell_type": "markdown",
   "id": "15007ebdeae08050",
   "metadata": {
    "collapsed": false
   },
   "source": [
    "# Preprocess data"
   ]
  },
  {
   "cell_type": "code",
   "id": "bfc319a5e099c7e3",
   "metadata": {
    "collapsed": false,
    "ExecuteTime": {
     "end_time": "2024-11-14T03:20:14.493507Z",
     "start_time": "2024-11-14T03:17:13.401674Z"
    }
   },
   "source": [
    "from base64 import standard_b64decode\n",
    "from bertopic import BERTopic\n",
    "from sklearn.feature_extraction.text import CountVectorizer\n",
    "\n",
    "repos['readme_base64'] = repos['readme_base64'].apply(lambda x: standard_b64decode(x).decode('utf-8'))\n",
    "repos['topics'] = repos['topics'].apply(lambda x: ' '.join(x))\n",
    "repos['merged'] = repos['description'] + ' ' + repos['topics'] + ' ' + repos['readme_base64']\n",
    "\n",
    "nlp = spacy.load('en_core_web_md')\n",
    "removal = ['ADV', 'PRON', 'CCONJ', 'PUNCT', 'PART', 'DET', 'ADP', 'SPACE', 'NUM', 'SYM']\n",
    "\n",
    "processed_texts = []\n",
    "for merged_text in nlp.pipe(repos['merged'], batch_size=50):\n",
    "    tokens = [token.lemma_.lower() for token in merged_text if token.pos_ not in removal and not token.is_stop and token.is_alpha]\n",
    "    processed_texts.append(' '.join(tokens))\n",
    "\n",
    "vectorizer = CountVectorizer(max_df=0.5, min_df=5, max_features=1000)\n",
    "topic_model = BERTopic(vectorizer_model=vectorizer)\n",
    "\n",
    "topics, probs = topic_model.fit_transform(processed_texts)\n",
    "\n",
    "repos['bertopic_topics'] = topics\n",
    "repos['topic_probabilities'] = probs\n",
    "\n",
    "topic_model.visualize_topics()"
   ],
   "outputs": [
    {
     "name": "stderr",
     "output_type": "stream",
     "text": [
      "/Users/jbenitezg/Documents/GitHub/Go-Clone-Thesis/topic-analysis/bertopic/.venv/lib/python3.10/site-packages/hdbscan/plots.py:448: DeprecationWarning: invalid escape sequence '\\l'\n",
      "  axis.set_ylabel('$\\lambda$ value')\n",
      "/Users/jbenitezg/Documents/GitHub/Go-Clone-Thesis/topic-analysis/bertopic/.venv/lib/python3.10/site-packages/hdbscan/robust_single_linkage_.py:154: DeprecationWarning: invalid escape sequence '\\{'\n",
      "  \"\"\"Perform robust single linkage clustering from a vector array\n"
     ]
    },
    {
     "ename": "KeyboardInterrupt",
     "evalue": "",
     "output_type": "error",
     "traceback": [
      "\u001B[0;31m---------------------------------------------------------------------------\u001B[0m",
      "\u001B[0;31mKeyboardInterrupt\u001B[0m                         Traceback (most recent call last)",
      "Cell \u001B[0;32mIn[4], line 15\u001B[0m\n\u001B[1;32m     13\u001B[0m \u001B[38;5;66;03m# Tokenize and filter text\u001B[39;00m\n\u001B[1;32m     14\u001B[0m processed_texts \u001B[38;5;241m=\u001B[39m []\n\u001B[0;32m---> 15\u001B[0m \u001B[38;5;28;01mfor\u001B[39;00m merged_text \u001B[38;5;129;01min\u001B[39;00m nlp\u001B[38;5;241m.\u001B[39mpipe(repos[\u001B[38;5;124m'\u001B[39m\u001B[38;5;124mmerged\u001B[39m\u001B[38;5;124m'\u001B[39m], batch_size\u001B[38;5;241m=\u001B[39m\u001B[38;5;241m50\u001B[39m):\n\u001B[1;32m     16\u001B[0m     tokens \u001B[38;5;241m=\u001B[39m [token\u001B[38;5;241m.\u001B[39mlemma_\u001B[38;5;241m.\u001B[39mlower() \u001B[38;5;28;01mfor\u001B[39;00m token \u001B[38;5;129;01min\u001B[39;00m merged_text \u001B[38;5;28;01mif\u001B[39;00m token\u001B[38;5;241m.\u001B[39mpos_ \u001B[38;5;129;01mnot\u001B[39;00m \u001B[38;5;129;01min\u001B[39;00m removal \u001B[38;5;129;01mand\u001B[39;00m \u001B[38;5;129;01mnot\u001B[39;00m token\u001B[38;5;241m.\u001B[39mis_stop \u001B[38;5;129;01mand\u001B[39;00m token\u001B[38;5;241m.\u001B[39mis_alpha]\n\u001B[1;32m     17\u001B[0m     processed_texts\u001B[38;5;241m.\u001B[39mappend(\u001B[38;5;124m'\u001B[39m\u001B[38;5;124m \u001B[39m\u001B[38;5;124m'\u001B[39m\u001B[38;5;241m.\u001B[39mjoin(tokens))\n",
      "File \u001B[0;32m~/Documents/GitHub/Go-Clone-Thesis/topic-analysis/bertopic/.venv/lib/python3.10/site-packages/spacy/language.py:1618\u001B[0m, in \u001B[0;36mLanguage.pipe\u001B[0;34m(self, texts, as_tuples, batch_size, disable, component_cfg, n_process)\u001B[0m\n\u001B[1;32m   1616\u001B[0m     \u001B[38;5;28;01mfor\u001B[39;00m pipe \u001B[38;5;129;01min\u001B[39;00m pipes:\n\u001B[1;32m   1617\u001B[0m         docs \u001B[38;5;241m=\u001B[39m pipe(docs)\n\u001B[0;32m-> 1618\u001B[0m \u001B[38;5;28;01mfor\u001B[39;00m doc \u001B[38;5;129;01min\u001B[39;00m docs:\n\u001B[1;32m   1619\u001B[0m     \u001B[38;5;28;01myield\u001B[39;00m doc\n",
      "File \u001B[0;32m~/Documents/GitHub/Go-Clone-Thesis/topic-analysis/bertopic/.venv/lib/python3.10/site-packages/spacy/util.py:1703\u001B[0m, in \u001B[0;36m_pipe\u001B[0;34m(docs, proc, name, default_error_handler, kwargs)\u001B[0m\n\u001B[1;32m   1693\u001B[0m \u001B[38;5;28;01mdef\u001B[39;00m \u001B[38;5;21m_pipe\u001B[39m(\n\u001B[1;32m   1694\u001B[0m     docs: Iterable[\u001B[38;5;124m\"\u001B[39m\u001B[38;5;124mDoc\u001B[39m\u001B[38;5;124m\"\u001B[39m],\n\u001B[1;32m   1695\u001B[0m     proc: \u001B[38;5;124m\"\u001B[39m\u001B[38;5;124mPipeCallable\u001B[39m\u001B[38;5;124m\"\u001B[39m,\n\u001B[0;32m   (...)\u001B[0m\n\u001B[1;32m   1700\u001B[0m     kwargs: Mapping[\u001B[38;5;28mstr\u001B[39m, Any],\n\u001B[1;32m   1701\u001B[0m ) \u001B[38;5;241m-\u001B[39m\u001B[38;5;241m>\u001B[39m Iterator[\u001B[38;5;124m\"\u001B[39m\u001B[38;5;124mDoc\u001B[39m\u001B[38;5;124m\"\u001B[39m]:\n\u001B[1;32m   1702\u001B[0m     \u001B[38;5;28;01mif\u001B[39;00m \u001B[38;5;28mhasattr\u001B[39m(proc, \u001B[38;5;124m\"\u001B[39m\u001B[38;5;124mpipe\u001B[39m\u001B[38;5;124m\"\u001B[39m):\n\u001B[0;32m-> 1703\u001B[0m         \u001B[38;5;28;01myield from\u001B[39;00m proc\u001B[38;5;241m.\u001B[39mpipe(docs, \u001B[38;5;241m*\u001B[39m\u001B[38;5;241m*\u001B[39mkwargs)\n\u001B[1;32m   1704\u001B[0m     \u001B[38;5;28;01melse\u001B[39;00m:\n\u001B[1;32m   1705\u001B[0m         \u001B[38;5;66;03m# We added some args for pipe that __call__ doesn't expect.\u001B[39;00m\n\u001B[1;32m   1706\u001B[0m         kwargs \u001B[38;5;241m=\u001B[39m \u001B[38;5;28mdict\u001B[39m(kwargs)\n",
      "File \u001B[0;32m~/Documents/GitHub/Go-Clone-Thesis/topic-analysis/bertopic/.venv/lib/python3.10/site-packages/spacy/pipeline/transition_parser.pyx:245\u001B[0m, in \u001B[0;36mpipe\u001B[0;34m()\u001B[0m\n",
      "File \u001B[0;32m~/Documents/GitHub/Go-Clone-Thesis/topic-analysis/bertopic/.venv/lib/python3.10/site-packages/spacy/util.py:1650\u001B[0m, in \u001B[0;36mminibatch\u001B[0;34m(items, size)\u001B[0m\n\u001B[1;32m   1648\u001B[0m \u001B[38;5;28;01mwhile\u001B[39;00m \u001B[38;5;28;01mTrue\u001B[39;00m:\n\u001B[1;32m   1649\u001B[0m     batch_size \u001B[38;5;241m=\u001B[39m \u001B[38;5;28mnext\u001B[39m(size_)\n\u001B[0;32m-> 1650\u001B[0m     batch \u001B[38;5;241m=\u001B[39m \u001B[38;5;28;43mlist\u001B[39;49m\u001B[43m(\u001B[49m\u001B[43mitertools\u001B[49m\u001B[38;5;241;43m.\u001B[39;49m\u001B[43mislice\u001B[49m\u001B[43m(\u001B[49m\u001B[43mitems\u001B[49m\u001B[43m,\u001B[49m\u001B[43m \u001B[49m\u001B[38;5;28;43mint\u001B[39;49m\u001B[43m(\u001B[49m\u001B[43mbatch_size\u001B[49m\u001B[43m)\u001B[49m\u001B[43m)\u001B[49m\u001B[43m)\u001B[49m\n\u001B[1;32m   1651\u001B[0m     \u001B[38;5;28;01mif\u001B[39;00m \u001B[38;5;28mlen\u001B[39m(batch) \u001B[38;5;241m==\u001B[39m \u001B[38;5;241m0\u001B[39m:\n\u001B[1;32m   1652\u001B[0m         \u001B[38;5;28;01mbreak\u001B[39;00m\n",
      "File \u001B[0;32m~/Documents/GitHub/Go-Clone-Thesis/topic-analysis/bertopic/.venv/lib/python3.10/site-packages/spacy/util.py:1703\u001B[0m, in \u001B[0;36m_pipe\u001B[0;34m(docs, proc, name, default_error_handler, kwargs)\u001B[0m\n\u001B[1;32m   1693\u001B[0m \u001B[38;5;28;01mdef\u001B[39;00m \u001B[38;5;21m_pipe\u001B[39m(\n\u001B[1;32m   1694\u001B[0m     docs: Iterable[\u001B[38;5;124m\"\u001B[39m\u001B[38;5;124mDoc\u001B[39m\u001B[38;5;124m\"\u001B[39m],\n\u001B[1;32m   1695\u001B[0m     proc: \u001B[38;5;124m\"\u001B[39m\u001B[38;5;124mPipeCallable\u001B[39m\u001B[38;5;124m\"\u001B[39m,\n\u001B[0;32m   (...)\u001B[0m\n\u001B[1;32m   1700\u001B[0m     kwargs: Mapping[\u001B[38;5;28mstr\u001B[39m, Any],\n\u001B[1;32m   1701\u001B[0m ) \u001B[38;5;241m-\u001B[39m\u001B[38;5;241m>\u001B[39m Iterator[\u001B[38;5;124m\"\u001B[39m\u001B[38;5;124mDoc\u001B[39m\u001B[38;5;124m\"\u001B[39m]:\n\u001B[1;32m   1702\u001B[0m     \u001B[38;5;28;01mif\u001B[39;00m \u001B[38;5;28mhasattr\u001B[39m(proc, \u001B[38;5;124m\"\u001B[39m\u001B[38;5;124mpipe\u001B[39m\u001B[38;5;124m\"\u001B[39m):\n\u001B[0;32m-> 1703\u001B[0m         \u001B[38;5;28;01myield from\u001B[39;00m proc\u001B[38;5;241m.\u001B[39mpipe(docs, \u001B[38;5;241m*\u001B[39m\u001B[38;5;241m*\u001B[39mkwargs)\n\u001B[1;32m   1704\u001B[0m     \u001B[38;5;28;01melse\u001B[39;00m:\n\u001B[1;32m   1705\u001B[0m         \u001B[38;5;66;03m# We added some args for pipe that __call__ doesn't expect.\u001B[39;00m\n\u001B[1;32m   1706\u001B[0m         kwargs \u001B[38;5;241m=\u001B[39m \u001B[38;5;28mdict\u001B[39m(kwargs)\n",
      "File \u001B[0;32m~/Documents/GitHub/Go-Clone-Thesis/topic-analysis/bertopic/.venv/lib/python3.10/site-packages/spacy/pipeline/pipe.pyx:55\u001B[0m, in \u001B[0;36mpipe\u001B[0;34m()\u001B[0m\n",
      "File \u001B[0;32m~/Documents/GitHub/Go-Clone-Thesis/topic-analysis/bertopic/.venv/lib/python3.10/site-packages/spacy/util.py:1703\u001B[0m, in \u001B[0;36m_pipe\u001B[0;34m(docs, proc, name, default_error_handler, kwargs)\u001B[0m\n\u001B[1;32m   1693\u001B[0m \u001B[38;5;28;01mdef\u001B[39;00m \u001B[38;5;21m_pipe\u001B[39m(\n\u001B[1;32m   1694\u001B[0m     docs: Iterable[\u001B[38;5;124m\"\u001B[39m\u001B[38;5;124mDoc\u001B[39m\u001B[38;5;124m\"\u001B[39m],\n\u001B[1;32m   1695\u001B[0m     proc: \u001B[38;5;124m\"\u001B[39m\u001B[38;5;124mPipeCallable\u001B[39m\u001B[38;5;124m\"\u001B[39m,\n\u001B[0;32m   (...)\u001B[0m\n\u001B[1;32m   1700\u001B[0m     kwargs: Mapping[\u001B[38;5;28mstr\u001B[39m, Any],\n\u001B[1;32m   1701\u001B[0m ) \u001B[38;5;241m-\u001B[39m\u001B[38;5;241m>\u001B[39m Iterator[\u001B[38;5;124m\"\u001B[39m\u001B[38;5;124mDoc\u001B[39m\u001B[38;5;124m\"\u001B[39m]:\n\u001B[1;32m   1702\u001B[0m     \u001B[38;5;28;01mif\u001B[39;00m \u001B[38;5;28mhasattr\u001B[39m(proc, \u001B[38;5;124m\"\u001B[39m\u001B[38;5;124mpipe\u001B[39m\u001B[38;5;124m\"\u001B[39m):\n\u001B[0;32m-> 1703\u001B[0m         \u001B[38;5;28;01myield from\u001B[39;00m proc\u001B[38;5;241m.\u001B[39mpipe(docs, \u001B[38;5;241m*\u001B[39m\u001B[38;5;241m*\u001B[39mkwargs)\n\u001B[1;32m   1704\u001B[0m     \u001B[38;5;28;01melse\u001B[39;00m:\n\u001B[1;32m   1705\u001B[0m         \u001B[38;5;66;03m# We added some args for pipe that __call__ doesn't expect.\u001B[39;00m\n\u001B[1;32m   1706\u001B[0m         kwargs \u001B[38;5;241m=\u001B[39m \u001B[38;5;28mdict\u001B[39m(kwargs)\n",
      "File \u001B[0;32m~/Documents/GitHub/Go-Clone-Thesis/topic-analysis/bertopic/.venv/lib/python3.10/site-packages/spacy/pipeline/pipe.pyx:55\u001B[0m, in \u001B[0;36mpipe\u001B[0;34m()\u001B[0m\n",
      "File \u001B[0;32m~/Documents/GitHub/Go-Clone-Thesis/topic-analysis/bertopic/.venv/lib/python3.10/site-packages/spacy/util.py:1703\u001B[0m, in \u001B[0;36m_pipe\u001B[0;34m(docs, proc, name, default_error_handler, kwargs)\u001B[0m\n\u001B[1;32m   1693\u001B[0m \u001B[38;5;28;01mdef\u001B[39;00m \u001B[38;5;21m_pipe\u001B[39m(\n\u001B[1;32m   1694\u001B[0m     docs: Iterable[\u001B[38;5;124m\"\u001B[39m\u001B[38;5;124mDoc\u001B[39m\u001B[38;5;124m\"\u001B[39m],\n\u001B[1;32m   1695\u001B[0m     proc: \u001B[38;5;124m\"\u001B[39m\u001B[38;5;124mPipeCallable\u001B[39m\u001B[38;5;124m\"\u001B[39m,\n\u001B[0;32m   (...)\u001B[0m\n\u001B[1;32m   1700\u001B[0m     kwargs: Mapping[\u001B[38;5;28mstr\u001B[39m, Any],\n\u001B[1;32m   1701\u001B[0m ) \u001B[38;5;241m-\u001B[39m\u001B[38;5;241m>\u001B[39m Iterator[\u001B[38;5;124m\"\u001B[39m\u001B[38;5;124mDoc\u001B[39m\u001B[38;5;124m\"\u001B[39m]:\n\u001B[1;32m   1702\u001B[0m     \u001B[38;5;28;01mif\u001B[39;00m \u001B[38;5;28mhasattr\u001B[39m(proc, \u001B[38;5;124m\"\u001B[39m\u001B[38;5;124mpipe\u001B[39m\u001B[38;5;124m\"\u001B[39m):\n\u001B[0;32m-> 1703\u001B[0m         \u001B[38;5;28;01myield from\u001B[39;00m proc\u001B[38;5;241m.\u001B[39mpipe(docs, \u001B[38;5;241m*\u001B[39m\u001B[38;5;241m*\u001B[39mkwargs)\n\u001B[1;32m   1704\u001B[0m     \u001B[38;5;28;01melse\u001B[39;00m:\n\u001B[1;32m   1705\u001B[0m         \u001B[38;5;66;03m# We added some args for pipe that __call__ doesn't expect.\u001B[39;00m\n\u001B[1;32m   1706\u001B[0m         kwargs \u001B[38;5;241m=\u001B[39m \u001B[38;5;28mdict\u001B[39m(kwargs)\n",
      "File \u001B[0;32m~/Documents/GitHub/Go-Clone-Thesis/topic-analysis/bertopic/.venv/lib/python3.10/site-packages/spacy/pipeline/transition_parser.pyx:245\u001B[0m, in \u001B[0;36mpipe\u001B[0;34m()\u001B[0m\n",
      "File \u001B[0;32m~/Documents/GitHub/Go-Clone-Thesis/topic-analysis/bertopic/.venv/lib/python3.10/site-packages/spacy/util.py:1650\u001B[0m, in \u001B[0;36mminibatch\u001B[0;34m(items, size)\u001B[0m\n\u001B[1;32m   1648\u001B[0m \u001B[38;5;28;01mwhile\u001B[39;00m \u001B[38;5;28;01mTrue\u001B[39;00m:\n\u001B[1;32m   1649\u001B[0m     batch_size \u001B[38;5;241m=\u001B[39m \u001B[38;5;28mnext\u001B[39m(size_)\n\u001B[0;32m-> 1650\u001B[0m     batch \u001B[38;5;241m=\u001B[39m \u001B[38;5;28;43mlist\u001B[39;49m\u001B[43m(\u001B[49m\u001B[43mitertools\u001B[49m\u001B[38;5;241;43m.\u001B[39;49m\u001B[43mislice\u001B[49m\u001B[43m(\u001B[49m\u001B[43mitems\u001B[49m\u001B[43m,\u001B[49m\u001B[43m \u001B[49m\u001B[38;5;28;43mint\u001B[39;49m\u001B[43m(\u001B[49m\u001B[43mbatch_size\u001B[49m\u001B[43m)\u001B[49m\u001B[43m)\u001B[49m\u001B[43m)\u001B[49m\n\u001B[1;32m   1651\u001B[0m     \u001B[38;5;28;01mif\u001B[39;00m \u001B[38;5;28mlen\u001B[39m(batch) \u001B[38;5;241m==\u001B[39m \u001B[38;5;241m0\u001B[39m:\n\u001B[1;32m   1652\u001B[0m         \u001B[38;5;28;01mbreak\u001B[39;00m\n",
      "File \u001B[0;32m~/Documents/GitHub/Go-Clone-Thesis/topic-analysis/bertopic/.venv/lib/python3.10/site-packages/spacy/util.py:1703\u001B[0m, in \u001B[0;36m_pipe\u001B[0;34m(docs, proc, name, default_error_handler, kwargs)\u001B[0m\n\u001B[1;32m   1693\u001B[0m \u001B[38;5;28;01mdef\u001B[39;00m \u001B[38;5;21m_pipe\u001B[39m(\n\u001B[1;32m   1694\u001B[0m     docs: Iterable[\u001B[38;5;124m\"\u001B[39m\u001B[38;5;124mDoc\u001B[39m\u001B[38;5;124m\"\u001B[39m],\n\u001B[1;32m   1695\u001B[0m     proc: \u001B[38;5;124m\"\u001B[39m\u001B[38;5;124mPipeCallable\u001B[39m\u001B[38;5;124m\"\u001B[39m,\n\u001B[0;32m   (...)\u001B[0m\n\u001B[1;32m   1700\u001B[0m     kwargs: Mapping[\u001B[38;5;28mstr\u001B[39m, Any],\n\u001B[1;32m   1701\u001B[0m ) \u001B[38;5;241m-\u001B[39m\u001B[38;5;241m>\u001B[39m Iterator[\u001B[38;5;124m\"\u001B[39m\u001B[38;5;124mDoc\u001B[39m\u001B[38;5;124m\"\u001B[39m]:\n\u001B[1;32m   1702\u001B[0m     \u001B[38;5;28;01mif\u001B[39;00m \u001B[38;5;28mhasattr\u001B[39m(proc, \u001B[38;5;124m\"\u001B[39m\u001B[38;5;124mpipe\u001B[39m\u001B[38;5;124m\"\u001B[39m):\n\u001B[0;32m-> 1703\u001B[0m         \u001B[38;5;28;01myield from\u001B[39;00m proc\u001B[38;5;241m.\u001B[39mpipe(docs, \u001B[38;5;241m*\u001B[39m\u001B[38;5;241m*\u001B[39mkwargs)\n\u001B[1;32m   1704\u001B[0m     \u001B[38;5;28;01melse\u001B[39;00m:\n\u001B[1;32m   1705\u001B[0m         \u001B[38;5;66;03m# We added some args for pipe that __call__ doesn't expect.\u001B[39;00m\n\u001B[1;32m   1706\u001B[0m         kwargs \u001B[38;5;241m=\u001B[39m \u001B[38;5;28mdict\u001B[39m(kwargs)\n",
      "File \u001B[0;32m~/Documents/GitHub/Go-Clone-Thesis/topic-analysis/bertopic/.venv/lib/python3.10/site-packages/spacy/pipeline/trainable_pipe.pyx:75\u001B[0m, in \u001B[0;36mpipe\u001B[0;34m()\u001B[0m\n",
      "File \u001B[0;32m~/Documents/GitHub/Go-Clone-Thesis/topic-analysis/bertopic/.venv/lib/python3.10/site-packages/spacy/pipeline/tagger.pyx:138\u001B[0m, in \u001B[0;36mspacy.pipeline.tagger.Tagger.predict\u001B[0;34m()\u001B[0m\n",
      "File \u001B[0;32m~/Documents/GitHub/Go-Clone-Thesis/topic-analysis/bertopic/.venv/lib/python3.10/site-packages/thinc/model.py:334\u001B[0m, in \u001B[0;36mModel.predict\u001B[0;34m(self, X)\u001B[0m\n\u001B[1;32m    330\u001B[0m \u001B[38;5;28;01mdef\u001B[39;00m \u001B[38;5;21mpredict\u001B[39m(\u001B[38;5;28mself\u001B[39m, X: InT) \u001B[38;5;241m-\u001B[39m\u001B[38;5;241m>\u001B[39m OutT:\n\u001B[1;32m    331\u001B[0m \u001B[38;5;250m    \u001B[39m\u001B[38;5;124;03m\"\"\"Call the model's `forward` function with `is_train=False`, and return\u001B[39;00m\n\u001B[1;32m    332\u001B[0m \u001B[38;5;124;03m    only the output, instead of the `(output, callback)` tuple.\u001B[39;00m\n\u001B[1;32m    333\u001B[0m \u001B[38;5;124;03m    \"\"\"\u001B[39;00m\n\u001B[0;32m--> 334\u001B[0m     \u001B[38;5;28;01mreturn\u001B[39;00m \u001B[38;5;28;43mself\u001B[39;49m\u001B[38;5;241;43m.\u001B[39;49m\u001B[43m_func\u001B[49m\u001B[43m(\u001B[49m\u001B[38;5;28;43mself\u001B[39;49m\u001B[43m,\u001B[49m\u001B[43m \u001B[49m\u001B[43mX\u001B[49m\u001B[43m,\u001B[49m\u001B[43m \u001B[49m\u001B[43mis_train\u001B[49m\u001B[38;5;241;43m=\u001B[39;49m\u001B[38;5;28;43;01mFalse\u001B[39;49;00m\u001B[43m)\u001B[49m[\u001B[38;5;241m0\u001B[39m]\n",
      "File \u001B[0;32m~/Documents/GitHub/Go-Clone-Thesis/topic-analysis/bertopic/.venv/lib/python3.10/site-packages/thinc/layers/chain.py:54\u001B[0m, in \u001B[0;36mforward\u001B[0;34m(model, X, is_train)\u001B[0m\n\u001B[1;32m     52\u001B[0m callbacks \u001B[38;5;241m=\u001B[39m []\n\u001B[1;32m     53\u001B[0m \u001B[38;5;28;01mfor\u001B[39;00m layer \u001B[38;5;129;01min\u001B[39;00m model\u001B[38;5;241m.\u001B[39mlayers:\n\u001B[0;32m---> 54\u001B[0m     Y, inc_layer_grad \u001B[38;5;241m=\u001B[39m \u001B[43mlayer\u001B[49m\u001B[43m(\u001B[49m\u001B[43mX\u001B[49m\u001B[43m,\u001B[49m\u001B[43m \u001B[49m\u001B[43mis_train\u001B[49m\u001B[38;5;241;43m=\u001B[39;49m\u001B[43mis_train\u001B[49m\u001B[43m)\u001B[49m\n\u001B[1;32m     55\u001B[0m     callbacks\u001B[38;5;241m.\u001B[39mappend(inc_layer_grad)\n\u001B[1;32m     56\u001B[0m     X \u001B[38;5;241m=\u001B[39m Y\n",
      "File \u001B[0;32m~/Documents/GitHub/Go-Clone-Thesis/topic-analysis/bertopic/.venv/lib/python3.10/site-packages/thinc/model.py:310\u001B[0m, in \u001B[0;36mModel.__call__\u001B[0;34m(self, X, is_train)\u001B[0m\n\u001B[1;32m    307\u001B[0m \u001B[38;5;28;01mdef\u001B[39;00m \u001B[38;5;21m__call__\u001B[39m(\u001B[38;5;28mself\u001B[39m, X: InT, is_train: \u001B[38;5;28mbool\u001B[39m) \u001B[38;5;241m-\u001B[39m\u001B[38;5;241m>\u001B[39m Tuple[OutT, Callable]:\n\u001B[1;32m    308\u001B[0m \u001B[38;5;250m    \u001B[39m\u001B[38;5;124;03m\"\"\"Call the model's `forward` function, returning the output and a\u001B[39;00m\n\u001B[1;32m    309\u001B[0m \u001B[38;5;124;03m    callback to compute the gradients via backpropagation.\"\"\"\u001B[39;00m\n\u001B[0;32m--> 310\u001B[0m     \u001B[38;5;28;01mreturn\u001B[39;00m \u001B[38;5;28;43mself\u001B[39;49m\u001B[38;5;241;43m.\u001B[39;49m\u001B[43m_func\u001B[49m\u001B[43m(\u001B[49m\u001B[38;5;28;43mself\u001B[39;49m\u001B[43m,\u001B[49m\u001B[43m \u001B[49m\u001B[43mX\u001B[49m\u001B[43m,\u001B[49m\u001B[43m \u001B[49m\u001B[43mis_train\u001B[49m\u001B[38;5;241;43m=\u001B[39;49m\u001B[43mis_train\u001B[49m\u001B[43m)\u001B[49m\n",
      "File \u001B[0;32m~/Documents/GitHub/Go-Clone-Thesis/topic-analysis/bertopic/.venv/lib/python3.10/site-packages/thinc/layers/with_array.py:42\u001B[0m, in \u001B[0;36mforward\u001B[0;34m(model, Xseq, is_train)\u001B[0m\n\u001B[1;32m     40\u001B[0m     \u001B[38;5;28;01mreturn\u001B[39;00m model\u001B[38;5;241m.\u001B[39mlayers[\u001B[38;5;241m0\u001B[39m](Xseq, is_train)\n\u001B[1;32m     41\u001B[0m \u001B[38;5;28;01melse\u001B[39;00m:\n\u001B[0;32m---> 42\u001B[0m     \u001B[38;5;28;01mreturn\u001B[39;00m cast(Tuple[SeqT, Callable], \u001B[43m_list_forward\u001B[49m\u001B[43m(\u001B[49m\u001B[43mmodel\u001B[49m\u001B[43m,\u001B[49m\u001B[43m \u001B[49m\u001B[43mXseq\u001B[49m\u001B[43m,\u001B[49m\u001B[43m \u001B[49m\u001B[43mis_train\u001B[49m\u001B[43m)\u001B[49m)\n",
      "File \u001B[0;32m~/Documents/GitHub/Go-Clone-Thesis/topic-analysis/bertopic/.venv/lib/python3.10/site-packages/thinc/layers/with_array.py:77\u001B[0m, in \u001B[0;36m_list_forward\u001B[0;34m(model, Xs, is_train)\u001B[0m\n\u001B[1;32m     75\u001B[0m lengths \u001B[38;5;241m=\u001B[39m NUMPY_OPS\u001B[38;5;241m.\u001B[39masarray1i([\u001B[38;5;28mlen\u001B[39m(seq) \u001B[38;5;28;01mfor\u001B[39;00m seq \u001B[38;5;129;01min\u001B[39;00m Xs])\n\u001B[1;32m     76\u001B[0m Xf \u001B[38;5;241m=\u001B[39m layer\u001B[38;5;241m.\u001B[39mops\u001B[38;5;241m.\u001B[39mflatten(Xs, pad\u001B[38;5;241m=\u001B[39mpad)\n\u001B[0;32m---> 77\u001B[0m Yf, get_dXf \u001B[38;5;241m=\u001B[39m \u001B[43mlayer\u001B[49m\u001B[43m(\u001B[49m\u001B[43mXf\u001B[49m\u001B[43m,\u001B[49m\u001B[43m \u001B[49m\u001B[43mis_train\u001B[49m\u001B[43m)\u001B[49m\n\u001B[1;32m     79\u001B[0m \u001B[38;5;28;01mdef\u001B[39;00m \u001B[38;5;21mbackprop\u001B[39m(dYs: ListXd) \u001B[38;5;241m-\u001B[39m\u001B[38;5;241m>\u001B[39m ListXd:\n\u001B[1;32m     80\u001B[0m     dYf \u001B[38;5;241m=\u001B[39m layer\u001B[38;5;241m.\u001B[39mops\u001B[38;5;241m.\u001B[39mflatten(dYs, pad\u001B[38;5;241m=\u001B[39mpad)\n",
      "File \u001B[0;32m~/Documents/GitHub/Go-Clone-Thesis/topic-analysis/bertopic/.venv/lib/python3.10/site-packages/thinc/model.py:310\u001B[0m, in \u001B[0;36mModel.__call__\u001B[0;34m(self, X, is_train)\u001B[0m\n\u001B[1;32m    307\u001B[0m \u001B[38;5;28;01mdef\u001B[39;00m \u001B[38;5;21m__call__\u001B[39m(\u001B[38;5;28mself\u001B[39m, X: InT, is_train: \u001B[38;5;28mbool\u001B[39m) \u001B[38;5;241m-\u001B[39m\u001B[38;5;241m>\u001B[39m Tuple[OutT, Callable]:\n\u001B[1;32m    308\u001B[0m \u001B[38;5;250m    \u001B[39m\u001B[38;5;124;03m\"\"\"Call the model's `forward` function, returning the output and a\u001B[39;00m\n\u001B[1;32m    309\u001B[0m \u001B[38;5;124;03m    callback to compute the gradients via backpropagation.\"\"\"\u001B[39;00m\n\u001B[0;32m--> 310\u001B[0m     \u001B[38;5;28;01mreturn\u001B[39;00m \u001B[38;5;28;43mself\u001B[39;49m\u001B[38;5;241;43m.\u001B[39;49m\u001B[43m_func\u001B[49m\u001B[43m(\u001B[49m\u001B[38;5;28;43mself\u001B[39;49m\u001B[43m,\u001B[49m\u001B[43m \u001B[49m\u001B[43mX\u001B[49m\u001B[43m,\u001B[49m\u001B[43m \u001B[49m\u001B[43mis_train\u001B[49m\u001B[38;5;241;43m=\u001B[39;49m\u001B[43mis_train\u001B[49m\u001B[43m)\u001B[49m\n",
      "File \u001B[0;32m~/Documents/GitHub/Go-Clone-Thesis/topic-analysis/bertopic/.venv/lib/python3.10/site-packages/thinc/layers/softmax.py:71\u001B[0m, in \u001B[0;36mforward\u001B[0;34m(model, X, is_train)\u001B[0m\n\u001B[1;32m     69\u001B[0m W \u001B[38;5;241m=\u001B[39m cast(Floats2d, model\u001B[38;5;241m.\u001B[39mget_param(\u001B[38;5;124m\"\u001B[39m\u001B[38;5;124mW\u001B[39m\u001B[38;5;124m\"\u001B[39m))\n\u001B[1;32m     70\u001B[0m b \u001B[38;5;241m=\u001B[39m cast(Floats1d, model\u001B[38;5;241m.\u001B[39mget_param(\u001B[38;5;124m\"\u001B[39m\u001B[38;5;124mb\u001B[39m\u001B[38;5;124m\"\u001B[39m))\n\u001B[0;32m---> 71\u001B[0m Y \u001B[38;5;241m=\u001B[39m \u001B[43mmodel\u001B[49m\u001B[38;5;241;43m.\u001B[39;49m\u001B[43mops\u001B[49m\u001B[38;5;241;43m.\u001B[39;49m\u001B[43maffine\u001B[49m\u001B[43m(\u001B[49m\u001B[43mX\u001B[49m\u001B[43m,\u001B[49m\u001B[43m \u001B[49m\u001B[43mW\u001B[49m\u001B[43m,\u001B[49m\u001B[43m \u001B[49m\u001B[43mb\u001B[49m\u001B[43m)\u001B[49m\n\u001B[1;32m     73\u001B[0m \u001B[38;5;28;01mif\u001B[39;00m normalize:\n\u001B[1;32m     74\u001B[0m     Y \u001B[38;5;241m=\u001B[39m model\u001B[38;5;241m.\u001B[39mops\u001B[38;5;241m.\u001B[39msoftmax(Y, temperature\u001B[38;5;241m=\u001B[39mtemperature)\n",
      "File \u001B[0;32m~/Documents/GitHub/Go-Clone-Thesis/topic-analysis/bertopic/.venv/lib/python3.10/site-packages/thinc/backends/ops.py:263\u001B[0m, in \u001B[0;36mOps.affine\u001B[0;34m(self, X, W, b)\u001B[0m\n\u001B[1;32m    259\u001B[0m \u001B[38;5;28;01mdef\u001B[39;00m \u001B[38;5;21maffine\u001B[39m(\u001B[38;5;28mself\u001B[39m, X: Floats2d, W: Floats2d, b: Floats1d) \u001B[38;5;241m-\u001B[39m\u001B[38;5;241m>\u001B[39m Floats2d:\n\u001B[1;32m    260\u001B[0m \u001B[38;5;250m    \u001B[39m\u001B[38;5;124;03m\"\"\"Apply a weights layer and a bias to some inputs, i.e.\u001B[39;00m\n\u001B[1;32m    261\u001B[0m \u001B[38;5;124;03m    Y = X @ W.T + b\u001B[39;00m\n\u001B[1;32m    262\u001B[0m \u001B[38;5;124;03m    \"\"\"\u001B[39;00m\n\u001B[0;32m--> 263\u001B[0m     Y \u001B[38;5;241m=\u001B[39m \u001B[38;5;28;43mself\u001B[39;49m\u001B[38;5;241;43m.\u001B[39;49m\u001B[43mgemm\u001B[49m\u001B[43m(\u001B[49m\u001B[43mX\u001B[49m\u001B[43m,\u001B[49m\u001B[43m \u001B[49m\u001B[43mW\u001B[49m\u001B[43m,\u001B[49m\u001B[43m \u001B[49m\u001B[43mtrans2\u001B[49m\u001B[38;5;241;43m=\u001B[39;49m\u001B[38;5;28;43;01mTrue\u001B[39;49;00m\u001B[43m)\u001B[49m\n\u001B[1;32m    264\u001B[0m     Y \u001B[38;5;241m+\u001B[39m\u001B[38;5;241m=\u001B[39m b\n\u001B[1;32m    265\u001B[0m     \u001B[38;5;28;01mreturn\u001B[39;00m Y\n",
      "\u001B[0;31mKeyboardInterrupt\u001B[0m: "
     ]
    }
   ],
   "execution_count": 4
  },
  {
   "metadata": {},
   "cell_type": "code",
   "outputs": [],
   "execution_count": null,
   "source": "",
   "id": "817cfc4d4abece70"
  }
 ],
 "metadata": {
  "kernelspec": {
   "display_name": ".venv",
   "language": "python",
   "name": "python3"
  },
  "language_info": {
   "codemirror_mode": {
    "name": "ipython",
    "version": 3
   },
   "file_extension": ".py",
   "mimetype": "text/x-python",
   "name": "python",
   "nbconvert_exporter": "python",
   "pygments_lexer": "ipython3",
   "version": "3.10.13"
  }
 },
 "nbformat": 4,
 "nbformat_minor": 5
}
