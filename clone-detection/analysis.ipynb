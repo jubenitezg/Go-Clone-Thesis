{
 "cells": [
  {
   "cell_type": "code",
   "id": "initial_id",
   "metadata": {
    "collapsed": true,
    "ExecuteTime": {
     "end_time": "2024-08-20T04:45:04.805722Z",
     "start_time": "2024-08-20T04:45:04.794530Z"
    }
   },
   "source": [
    "import pandas as pd\n",
    "import numpy as np\n",
    "from sklearn.linear_model import LinearRegression\n",
    "from sklearn.model_selection import train_test_split\n",
    "from sklearn.metrics import mean_squared_error\n",
    "import seaborn as sb\n",
    "import matplotlib.pyplot as plt\n",
    "\n",
    "TOPICS = {\n",
    "    \"topics.topic_0\": \"Command Line\",\n",
    "    \"topics.topic_1\": \"Client-Server\",\n",
    "    \"topics.topic_2\": \"Cloud\",\n",
    "    \"topics.topic_3\": \"Resource Management\",\n",
    "    \"topics.topic_4\": \"Error Handling & Logging\"\n",
    "}\n",
    "\n"
   ],
   "outputs": [],
   "execution_count": 405
  },
  {
   "metadata": {
    "ExecuteTime": {
     "end_time": "2024-08-20T04:45:05.227286Z",
     "start_time": "2024-08-20T04:45:04.997504Z"
    }
   },
   "cell_type": "code",
   "source": "df = pd.read_csv('full.csv')",
   "id": "ff1c43637bc81f4f",
   "outputs": [],
   "execution_count": 406
  },
  {
   "metadata": {
    "ExecuteTime": {
     "end_time": "2024-08-20T04:45:06.169391Z",
     "start_time": "2024-08-20T04:45:05.230080Z"
    }
   },
   "cell_type": "code",
   "source": [
    "df.drop(columns=['Unnamed: 0'], inplace=True)\n",
    "for col in df.columns:\n",
    "\tif 'language' in col:\n",
    "\t\tdf.drop(columns=[col], inplace=True)\n",
    "df.describe()"
   ],
   "id": "be0e3497fbef627a",
   "outputs": [
    {
     "data": {
      "text/plain": [
       "       analyzed_paths         pairs  similarities        issues  \\\n",
       "count    13703.000000  1.370300e+04  10467.000000  13703.000000   \n",
       "mean        76.884259  5.942503e+04    154.098596    174.068379   \n",
       "std        336.190415  1.930047e+06   1014.191085   1096.738333   \n",
       "min          2.000000  1.000000e+00      0.000000      0.000000   \n",
       "25%          6.000000  1.500000e+01      7.000000      7.000000   \n",
       "50%         17.000000  1.360000e+02     30.000000     25.000000   \n",
       "75%         51.000000  1.275000e+03    117.000000     88.000000   \n",
       "max      18370.000000  1.687193e+08  80513.000000  60246.000000   \n",
       "\n",
       "             commits  contributors          stars  topics.topic_3  \\\n",
       "count   13703.000000  13703.000000   13703.000000    11468.000000   \n",
       "mean      784.590309     26.883456    1160.930453        0.360950   \n",
       "std      3401.684323     96.088596    3632.434057        0.256544   \n",
       "min         1.000000     -1.000000     101.000000        0.010099   \n",
       "25%        65.000000      3.000000     159.000000        0.143918   \n",
       "50%       173.000000      7.000000     286.000000        0.309139   \n",
       "75%       513.000000     21.000000     731.000000        0.537906   \n",
       "max    164293.000000   3927.000000  117805.000000        0.999101   \n",
       "\n",
       "       topics.topic_0  topics.topic_1      loc.blank      loc.code  \\\n",
       "count     9266.000000     9049.000000   13703.000000  1.370300e+04   \n",
       "mean         0.279739        0.260759   10936.597023  8.822849e+04   \n",
       "std          0.213156        0.210155   42794.313040  3.295197e+05   \n",
       "min          0.010063        0.010016      10.000000  7.200000e+01   \n",
       "25%          0.108315        0.090124     255.000000  1.498000e+03   \n",
       "50%          0.228687        0.206502     755.000000  4.567000e+03   \n",
       "75%          0.408324        0.386560    3188.000000  2.098000e+04   \n",
       "max          0.999764        0.997521  827986.000000  6.593969e+06   \n",
       "\n",
       "        loc.comment    loc.nFiles  topics.topic_2  topics.topic_4  \n",
       "count  1.370300e+04  13703.000000     8324.000000     6996.000000  \n",
       "mean   1.700028e+04    350.551850        0.279741        0.319453  \n",
       "std    9.286598e+04   1258.837789        0.237410        0.271506  \n",
       "min    0.000000e+00      2.000000        0.010025        0.010026  \n",
       "25%    1.170000e+02     15.000000        0.084595        0.076527  \n",
       "50%    4.380000e+02     40.000000        0.209104        0.244908  \n",
       "75%    2.306000e+03    145.000000        0.422939        0.519784  \n",
       "max    2.693242e+06  33349.000000        0.996716        0.999707  "
      ],
      "text/html": [
       "<div>\n",
       "<style scoped>\n",
       "    .dataframe tbody tr th:only-of-type {\n",
       "        vertical-align: middle;\n",
       "    }\n",
       "\n",
       "    .dataframe tbody tr th {\n",
       "        vertical-align: top;\n",
       "    }\n",
       "\n",
       "    .dataframe thead th {\n",
       "        text-align: right;\n",
       "    }\n",
       "</style>\n",
       "<table border=\"1\" class=\"dataframe\">\n",
       "  <thead>\n",
       "    <tr style=\"text-align: right;\">\n",
       "      <th></th>\n",
       "      <th>analyzed_paths</th>\n",
       "      <th>pairs</th>\n",
       "      <th>similarities</th>\n",
       "      <th>issues</th>\n",
       "      <th>commits</th>\n",
       "      <th>contributors</th>\n",
       "      <th>stars</th>\n",
       "      <th>topics.topic_3</th>\n",
       "      <th>topics.topic_0</th>\n",
       "      <th>topics.topic_1</th>\n",
       "      <th>loc.blank</th>\n",
       "      <th>loc.code</th>\n",
       "      <th>loc.comment</th>\n",
       "      <th>loc.nFiles</th>\n",
       "      <th>topics.topic_2</th>\n",
       "      <th>topics.topic_4</th>\n",
       "    </tr>\n",
       "  </thead>\n",
       "  <tbody>\n",
       "    <tr>\n",
       "      <th>count</th>\n",
       "      <td>13703.000000</td>\n",
       "      <td>1.370300e+04</td>\n",
       "      <td>10467.000000</td>\n",
       "      <td>13703.000000</td>\n",
       "      <td>13703.000000</td>\n",
       "      <td>13703.000000</td>\n",
       "      <td>13703.000000</td>\n",
       "      <td>11468.000000</td>\n",
       "      <td>9266.000000</td>\n",
       "      <td>9049.000000</td>\n",
       "      <td>13703.000000</td>\n",
       "      <td>1.370300e+04</td>\n",
       "      <td>1.370300e+04</td>\n",
       "      <td>13703.000000</td>\n",
       "      <td>8324.000000</td>\n",
       "      <td>6996.000000</td>\n",
       "    </tr>\n",
       "    <tr>\n",
       "      <th>mean</th>\n",
       "      <td>76.884259</td>\n",
       "      <td>5.942503e+04</td>\n",
       "      <td>154.098596</td>\n",
       "      <td>174.068379</td>\n",
       "      <td>784.590309</td>\n",
       "      <td>26.883456</td>\n",
       "      <td>1160.930453</td>\n",
       "      <td>0.360950</td>\n",
       "      <td>0.279739</td>\n",
       "      <td>0.260759</td>\n",
       "      <td>10936.597023</td>\n",
       "      <td>8.822849e+04</td>\n",
       "      <td>1.700028e+04</td>\n",
       "      <td>350.551850</td>\n",
       "      <td>0.279741</td>\n",
       "      <td>0.319453</td>\n",
       "    </tr>\n",
       "    <tr>\n",
       "      <th>std</th>\n",
       "      <td>336.190415</td>\n",
       "      <td>1.930047e+06</td>\n",
       "      <td>1014.191085</td>\n",
       "      <td>1096.738333</td>\n",
       "      <td>3401.684323</td>\n",
       "      <td>96.088596</td>\n",
       "      <td>3632.434057</td>\n",
       "      <td>0.256544</td>\n",
       "      <td>0.213156</td>\n",
       "      <td>0.210155</td>\n",
       "      <td>42794.313040</td>\n",
       "      <td>3.295197e+05</td>\n",
       "      <td>9.286598e+04</td>\n",
       "      <td>1258.837789</td>\n",
       "      <td>0.237410</td>\n",
       "      <td>0.271506</td>\n",
       "    </tr>\n",
       "    <tr>\n",
       "      <th>min</th>\n",
       "      <td>2.000000</td>\n",
       "      <td>1.000000e+00</td>\n",
       "      <td>0.000000</td>\n",
       "      <td>0.000000</td>\n",
       "      <td>1.000000</td>\n",
       "      <td>-1.000000</td>\n",
       "      <td>101.000000</td>\n",
       "      <td>0.010099</td>\n",
       "      <td>0.010063</td>\n",
       "      <td>0.010016</td>\n",
       "      <td>10.000000</td>\n",
       "      <td>7.200000e+01</td>\n",
       "      <td>0.000000e+00</td>\n",
       "      <td>2.000000</td>\n",
       "      <td>0.010025</td>\n",
       "      <td>0.010026</td>\n",
       "    </tr>\n",
       "    <tr>\n",
       "      <th>25%</th>\n",
       "      <td>6.000000</td>\n",
       "      <td>1.500000e+01</td>\n",
       "      <td>7.000000</td>\n",
       "      <td>7.000000</td>\n",
       "      <td>65.000000</td>\n",
       "      <td>3.000000</td>\n",
       "      <td>159.000000</td>\n",
       "      <td>0.143918</td>\n",
       "      <td>0.108315</td>\n",
       "      <td>0.090124</td>\n",
       "      <td>255.000000</td>\n",
       "      <td>1.498000e+03</td>\n",
       "      <td>1.170000e+02</td>\n",
       "      <td>15.000000</td>\n",
       "      <td>0.084595</td>\n",
       "      <td>0.076527</td>\n",
       "    </tr>\n",
       "    <tr>\n",
       "      <th>50%</th>\n",
       "      <td>17.000000</td>\n",
       "      <td>1.360000e+02</td>\n",
       "      <td>30.000000</td>\n",
       "      <td>25.000000</td>\n",
       "      <td>173.000000</td>\n",
       "      <td>7.000000</td>\n",
       "      <td>286.000000</td>\n",
       "      <td>0.309139</td>\n",
       "      <td>0.228687</td>\n",
       "      <td>0.206502</td>\n",
       "      <td>755.000000</td>\n",
       "      <td>4.567000e+03</td>\n",
       "      <td>4.380000e+02</td>\n",
       "      <td>40.000000</td>\n",
       "      <td>0.209104</td>\n",
       "      <td>0.244908</td>\n",
       "    </tr>\n",
       "    <tr>\n",
       "      <th>75%</th>\n",
       "      <td>51.000000</td>\n",
       "      <td>1.275000e+03</td>\n",
       "      <td>117.000000</td>\n",
       "      <td>88.000000</td>\n",
       "      <td>513.000000</td>\n",
       "      <td>21.000000</td>\n",
       "      <td>731.000000</td>\n",
       "      <td>0.537906</td>\n",
       "      <td>0.408324</td>\n",
       "      <td>0.386560</td>\n",
       "      <td>3188.000000</td>\n",
       "      <td>2.098000e+04</td>\n",
       "      <td>2.306000e+03</td>\n",
       "      <td>145.000000</td>\n",
       "      <td>0.422939</td>\n",
       "      <td>0.519784</td>\n",
       "    </tr>\n",
       "    <tr>\n",
       "      <th>max</th>\n",
       "      <td>18370.000000</td>\n",
       "      <td>1.687193e+08</td>\n",
       "      <td>80513.000000</td>\n",
       "      <td>60246.000000</td>\n",
       "      <td>164293.000000</td>\n",
       "      <td>3927.000000</td>\n",
       "      <td>117805.000000</td>\n",
       "      <td>0.999101</td>\n",
       "      <td>0.999764</td>\n",
       "      <td>0.997521</td>\n",
       "      <td>827986.000000</td>\n",
       "      <td>6.593969e+06</td>\n",
       "      <td>2.693242e+06</td>\n",
       "      <td>33349.000000</td>\n",
       "      <td>0.996716</td>\n",
       "      <td>0.999707</td>\n",
       "    </tr>\n",
       "  </tbody>\n",
       "</table>\n",
       "</div>"
      ]
     },
     "execution_count": 407,
     "metadata": {},
     "output_type": "execute_result"
    }
   ],
   "execution_count": 407
  },
  {
   "metadata": {
    "ExecuteTime": {
     "end_time": "2024-08-20T04:45:06.207022Z",
     "start_time": "2024-08-20T04:45:06.172634Z"
    }
   },
   "cell_type": "code",
   "source": [
    "epsilon = 1e-6\n",
    "df['contributors'] = df['contributors'].apply(lambda x: x if x > 0 else epsilon)\n",
    "df['commits'] = df['commits'].apply(lambda x: x if x > 0 else epsilon)\n",
    "df['issues'] = df['issues'].apply(lambda x: x if x > 0 else epsilon)\n",
    "df['stars'] = df['stars'].apply(lambda x: x if x > 0 else epsilon)\n",
    "df['analyzed_paths'] = df['analyzed_paths'].apply(lambda x: x if x > 0 else epsilon)\n",
    "df['pairs'] = df['pairs'].apply(lambda x: x if x > 0 else epsilon)\n",
    "df['similarities'] = df['similarities'].apply(lambda x: x if x > 0 else epsilon)\n",
    "\n",
    "# df2 = df.loc[:, [\"similarities\", \"issues\"]]\n",
    "# \n",
    "# epsilon = 1e-9\n",
    "# df2['issues'] = df2['issues'].apply(lambda x: x if x > 0 else epsilon)\n",
    "# df2.corr()\n"
   ],
   "id": "a59d04f71fabff41",
   "outputs": [],
   "execution_count": 408
  },
  {
   "metadata": {
    "ExecuteTime": {
     "end_time": "2024-08-20T04:45:06.257506Z",
     "start_time": "2024-08-20T04:45:06.208690Z"
    }
   },
   "cell_type": "code",
   "source": [
    "df_nona = df.dropna()\n",
    "\n",
    "X = df_nona[['stars', 'contributors', 'commits', 'pairs', 'analyzed_paths', 'issues']]\n",
    "y = df_nona['similarities']\n",
    "\n",
    "X_train, X_test, y_train, y_test = train_test_split(X, y, test_size=0.2, random_state=42)\n",
    "\n",
    "model = LinearRegression()\n",
    "model.fit(X_train, y_train)\n",
    "\n",
    "y_pred = model.predict(X_test)\n",
    "mse = mean_squared_error(y_test, y_pred)\n",
    "print(f\"Mean Squared Error: {mse}\")\n",
    "print(f\"Coefficients: {model.coef_}\")\n",
    "print(f\"Intercept: {model.intercept_}\")\n",
    "df.head()"
   ],
   "id": "195568d54eb08377",
   "outputs": [
    {
     "name": "stdout",
     "output_type": "stream",
     "text": [
      "Mean Squared Error: 96836.40828933466\n",
      "Coefficients: [ 1.12912796e-04  1.97676821e-01 -8.05711146e-04  4.06896989e-06\n",
      " -4.39483167e-02 -4.01863091e-02]\n",
      "Intercept: 117.08980766371077\n"
     ]
    },
    {
     "data": {
      "text/plain": [
       "              repo_id  analyzed_paths   pairs  similarities       issues  \\\n",
       "0          mislav/hub              46    1035         150.0  2018.000000   \n",
       "1  getlantern/lantern             893  398278         138.0     0.000001   \n",
       "2       direnv/direnv              37     666         171.0   664.000000   \n",
       "3  patrickmn/go-cache               2       1         248.0    92.000000   \n",
       "4           miekg/dns              39     741        1746.0   605.000000   \n",
       "\n",
       "        license  commits  created_at  contributors  stars  topics.topic_3  \\\n",
       "0           MIT     3337  2009-12-05         244.0  22649        0.692835   \n",
       "1           NaN     6252  2011-02-17          59.0  13937        0.888254   \n",
       "2           MIT     1132  2011-01-04         213.0  11397        0.333218   \n",
       "3           MIT      163  2012-01-02           7.0   7693             NaN   \n",
       "4  BSD-3-Clause     4173  2010-08-03         227.0   7661        0.118695   \n",
       "\n",
       "   topics.topic_0  topics.topic_1  loc.blank  loc.code  loc.comment  \\\n",
       "0        0.247408        0.058288       2539     12621          110   \n",
       "1             NaN        0.106459      45439    425248        43672   \n",
       "2        0.591452             NaN        760      3971          327   \n",
       "3        0.232586        0.029679        237      2759          213   \n",
       "4        0.071108        0.575756       3529     27510         2559   \n",
       "\n",
       "   loc.nFiles  topics.topic_2  topics.topic_4  \n",
       "0          97             NaN             NaN  \n",
       "1        1701             NaN             NaN  \n",
       "2          64        0.074183             NaN  \n",
       "3           4             NaN        0.734904  \n",
       "4          89        0.025523        0.208917  "
      ],
      "text/html": [
       "<div>\n",
       "<style scoped>\n",
       "    .dataframe tbody tr th:only-of-type {\n",
       "        vertical-align: middle;\n",
       "    }\n",
       "\n",
       "    .dataframe tbody tr th {\n",
       "        vertical-align: top;\n",
       "    }\n",
       "\n",
       "    .dataframe thead th {\n",
       "        text-align: right;\n",
       "    }\n",
       "</style>\n",
       "<table border=\"1\" class=\"dataframe\">\n",
       "  <thead>\n",
       "    <tr style=\"text-align: right;\">\n",
       "      <th></th>\n",
       "      <th>repo_id</th>\n",
       "      <th>analyzed_paths</th>\n",
       "      <th>pairs</th>\n",
       "      <th>similarities</th>\n",
       "      <th>issues</th>\n",
       "      <th>license</th>\n",
       "      <th>commits</th>\n",
       "      <th>created_at</th>\n",
       "      <th>contributors</th>\n",
       "      <th>stars</th>\n",
       "      <th>topics.topic_3</th>\n",
       "      <th>topics.topic_0</th>\n",
       "      <th>topics.topic_1</th>\n",
       "      <th>loc.blank</th>\n",
       "      <th>loc.code</th>\n",
       "      <th>loc.comment</th>\n",
       "      <th>loc.nFiles</th>\n",
       "      <th>topics.topic_2</th>\n",
       "      <th>topics.topic_4</th>\n",
       "    </tr>\n",
       "  </thead>\n",
       "  <tbody>\n",
       "    <tr>\n",
       "      <th>0</th>\n",
       "      <td>mislav/hub</td>\n",
       "      <td>46</td>\n",
       "      <td>1035</td>\n",
       "      <td>150.0</td>\n",
       "      <td>2018.000000</td>\n",
       "      <td>MIT</td>\n",
       "      <td>3337</td>\n",
       "      <td>2009-12-05</td>\n",
       "      <td>244.0</td>\n",
       "      <td>22649</td>\n",
       "      <td>0.692835</td>\n",
       "      <td>0.247408</td>\n",
       "      <td>0.058288</td>\n",
       "      <td>2539</td>\n",
       "      <td>12621</td>\n",
       "      <td>110</td>\n",
       "      <td>97</td>\n",
       "      <td>NaN</td>\n",
       "      <td>NaN</td>\n",
       "    </tr>\n",
       "    <tr>\n",
       "      <th>1</th>\n",
       "      <td>getlantern/lantern</td>\n",
       "      <td>893</td>\n",
       "      <td>398278</td>\n",
       "      <td>138.0</td>\n",
       "      <td>0.000001</td>\n",
       "      <td>NaN</td>\n",
       "      <td>6252</td>\n",
       "      <td>2011-02-17</td>\n",
       "      <td>59.0</td>\n",
       "      <td>13937</td>\n",
       "      <td>0.888254</td>\n",
       "      <td>NaN</td>\n",
       "      <td>0.106459</td>\n",
       "      <td>45439</td>\n",
       "      <td>425248</td>\n",
       "      <td>43672</td>\n",
       "      <td>1701</td>\n",
       "      <td>NaN</td>\n",
       "      <td>NaN</td>\n",
       "    </tr>\n",
       "    <tr>\n",
       "      <th>2</th>\n",
       "      <td>direnv/direnv</td>\n",
       "      <td>37</td>\n",
       "      <td>666</td>\n",
       "      <td>171.0</td>\n",
       "      <td>664.000000</td>\n",
       "      <td>MIT</td>\n",
       "      <td>1132</td>\n",
       "      <td>2011-01-04</td>\n",
       "      <td>213.0</td>\n",
       "      <td>11397</td>\n",
       "      <td>0.333218</td>\n",
       "      <td>0.591452</td>\n",
       "      <td>NaN</td>\n",
       "      <td>760</td>\n",
       "      <td>3971</td>\n",
       "      <td>327</td>\n",
       "      <td>64</td>\n",
       "      <td>0.074183</td>\n",
       "      <td>NaN</td>\n",
       "    </tr>\n",
       "    <tr>\n",
       "      <th>3</th>\n",
       "      <td>patrickmn/go-cache</td>\n",
       "      <td>2</td>\n",
       "      <td>1</td>\n",
       "      <td>248.0</td>\n",
       "      <td>92.000000</td>\n",
       "      <td>MIT</td>\n",
       "      <td>163</td>\n",
       "      <td>2012-01-02</td>\n",
       "      <td>7.0</td>\n",
       "      <td>7693</td>\n",
       "      <td>NaN</td>\n",
       "      <td>0.232586</td>\n",
       "      <td>0.029679</td>\n",
       "      <td>237</td>\n",
       "      <td>2759</td>\n",
       "      <td>213</td>\n",
       "      <td>4</td>\n",
       "      <td>NaN</td>\n",
       "      <td>0.734904</td>\n",
       "    </tr>\n",
       "    <tr>\n",
       "      <th>4</th>\n",
       "      <td>miekg/dns</td>\n",
       "      <td>39</td>\n",
       "      <td>741</td>\n",
       "      <td>1746.0</td>\n",
       "      <td>605.000000</td>\n",
       "      <td>BSD-3-Clause</td>\n",
       "      <td>4173</td>\n",
       "      <td>2010-08-03</td>\n",
       "      <td>227.0</td>\n",
       "      <td>7661</td>\n",
       "      <td>0.118695</td>\n",
       "      <td>0.071108</td>\n",
       "      <td>0.575756</td>\n",
       "      <td>3529</td>\n",
       "      <td>27510</td>\n",
       "      <td>2559</td>\n",
       "      <td>89</td>\n",
       "      <td>0.025523</td>\n",
       "      <td>0.208917</td>\n",
       "    </tr>\n",
       "  </tbody>\n",
       "</table>\n",
       "</div>"
      ]
     },
     "execution_count": 409,
     "metadata": {},
     "output_type": "execute_result"
    }
   ],
   "execution_count": 409
  },
  {
   "metadata": {
    "ExecuteTime": {
     "end_time": "2024-08-20T04:45:06.278671Z",
     "start_time": "2024-08-20T04:45:06.258255Z"
    }
   },
   "cell_type": "code",
   "source": [
    "def filter_outliers(series, lower_percentile=0.1, upper_percentile=0.99):\n",
    "\tlower_bound = series.quantile(lower_percentile)\n",
    "\tupper_bound = series.quantile(upper_percentile)\n",
    "\treturn series[(series > lower_bound) & (series < upper_bound)]\n",
    "\n",
    "\n",
    "df['log_stars'] = np.log1p(df['stars'])\n",
    "df['log_contributors'] = np.log1p(df['contributors'])\n",
    "df['log_commits'] = np.log1p(df['commits'])\n",
    "df['log_pairs'] = np.log1p(df['pairs'])\n",
    "df['log_analyzed_paths'] = np.log1p(df['analyzed_paths'])\n",
    "df['log_issues'] = np.log1p(df['issues'])\n",
    "df['log_similarities'] = np.log1p(df['similarities'])\n",
    "\n",
    "df['log_stars'] = filter_outliers(df['log_stars'])\n",
    "df['log_contributors'] = filter_outliers(df['log_contributors'])\n",
    "df['log_commits'] = filter_outliers(df['log_commits'])\n",
    "df['log_pairs'] = filter_outliers(df['log_pairs'])\n",
    "df['log_analyzed_paths'] = filter_outliers(df['log_analyzed_paths'])\n",
    "df['log_issues'] = filter_outliers(df['log_issues'])\n",
    "df['log_similarities'] = filter_outliers(df['log_similarities'])\n",
    "\n",
    "# remove nan values\n",
    "df.dropna(inplace=True)"
   ],
   "id": "f9c3cbc7a2b745d6",
   "outputs": [],
   "execution_count": 410
  },
  {
   "metadata": {
    "ExecuteTime": {
     "end_time": "2024-08-20T04:45:06.291049Z",
     "start_time": "2024-08-20T04:45:06.279688Z"
    }
   },
   "cell_type": "code",
   "source": [
    "sample = df.sample(100)\n",
    "sample.head()"
   ],
   "id": "43298a3f3ab7e9d4",
   "outputs": [
    {
     "data": {
      "text/plain": [
       "                                 repo_id  analyzed_paths  pairs  similarities  \\\n",
       "1438                    codegangsta/bwag               9     36           6.0   \n",
       "7527                    VirtusLab/render               4      6          18.0   \n",
       "4830                    segmentio/cwlogs               5     10           2.0   \n",
       "5157  GoogleCloudPlatform/metacontroller              46   1035         671.0   \n",
       "8385                     google/schedviz              34    561         159.0   \n",
       "\n",
       "      issues     license  commits  created_at  contributors  stars  ...  \\\n",
       "1438     6.0  Apache-2.0       75  2014-10-04          10.0    197  ...   \n",
       "7527    22.0  Apache-2.0      180  2018-10-19          10.0    138  ...   \n",
       "4830     8.0         MIT       36  2017-05-22          10.0    142  ...   \n",
       "5157   108.0  Apache-2.0      271  2017-09-15          18.0    789  ...   \n",
       "8385    28.0  Apache-2.0      197  2019-07-24          15.0    505  ...   \n",
       "\n",
       "      loc.nFiles  topics.topic_2  topics.topic_4  log_stars  log_contributors  \\\n",
       "1438          15        0.057778        0.082719   5.288267          2.397895   \n",
       "7527          13        0.151444        0.051256   4.934474          2.397895   \n",
       "4830         338        0.022733        0.022886   4.962845          2.397895   \n",
       "5157          74        0.932322        0.016785   6.672033          2.944439   \n",
       "8385          67        0.150992        0.092676   6.226537          2.772589   \n",
       "\n",
       "      log_commits  log_pairs  log_analyzed_paths  log_issues  log_similarities  \n",
       "1438     4.330733   3.610918            2.302585    1.945910          1.945910  \n",
       "7527     5.198497   1.945910            1.609438    3.135494          2.944439  \n",
       "4830     3.610918   2.397895            1.791759    2.197225          1.098612  \n",
       "5157     5.605802   6.943122            3.850148    4.691348          6.510258  \n",
       "8385     5.288267   6.331502            3.555348    3.367296          5.075174  \n",
       "\n",
       "[5 rows x 26 columns]"
      ],
      "text/html": [
       "<div>\n",
       "<style scoped>\n",
       "    .dataframe tbody tr th:only-of-type {\n",
       "        vertical-align: middle;\n",
       "    }\n",
       "\n",
       "    .dataframe tbody tr th {\n",
       "        vertical-align: top;\n",
       "    }\n",
       "\n",
       "    .dataframe thead th {\n",
       "        text-align: right;\n",
       "    }\n",
       "</style>\n",
       "<table border=\"1\" class=\"dataframe\">\n",
       "  <thead>\n",
       "    <tr style=\"text-align: right;\">\n",
       "      <th></th>\n",
       "      <th>repo_id</th>\n",
       "      <th>analyzed_paths</th>\n",
       "      <th>pairs</th>\n",
       "      <th>similarities</th>\n",
       "      <th>issues</th>\n",
       "      <th>license</th>\n",
       "      <th>commits</th>\n",
       "      <th>created_at</th>\n",
       "      <th>contributors</th>\n",
       "      <th>stars</th>\n",
       "      <th>...</th>\n",
       "      <th>loc.nFiles</th>\n",
       "      <th>topics.topic_2</th>\n",
       "      <th>topics.topic_4</th>\n",
       "      <th>log_stars</th>\n",
       "      <th>log_contributors</th>\n",
       "      <th>log_commits</th>\n",
       "      <th>log_pairs</th>\n",
       "      <th>log_analyzed_paths</th>\n",
       "      <th>log_issues</th>\n",
       "      <th>log_similarities</th>\n",
       "    </tr>\n",
       "  </thead>\n",
       "  <tbody>\n",
       "    <tr>\n",
       "      <th>1438</th>\n",
       "      <td>codegangsta/bwag</td>\n",
       "      <td>9</td>\n",
       "      <td>36</td>\n",
       "      <td>6.0</td>\n",
       "      <td>6.0</td>\n",
       "      <td>Apache-2.0</td>\n",
       "      <td>75</td>\n",
       "      <td>2014-10-04</td>\n",
       "      <td>10.0</td>\n",
       "      <td>197</td>\n",
       "      <td>...</td>\n",
       "      <td>15</td>\n",
       "      <td>0.057778</td>\n",
       "      <td>0.082719</td>\n",
       "      <td>5.288267</td>\n",
       "      <td>2.397895</td>\n",
       "      <td>4.330733</td>\n",
       "      <td>3.610918</td>\n",
       "      <td>2.302585</td>\n",
       "      <td>1.945910</td>\n",
       "      <td>1.945910</td>\n",
       "    </tr>\n",
       "    <tr>\n",
       "      <th>7527</th>\n",
       "      <td>VirtusLab/render</td>\n",
       "      <td>4</td>\n",
       "      <td>6</td>\n",
       "      <td>18.0</td>\n",
       "      <td>22.0</td>\n",
       "      <td>Apache-2.0</td>\n",
       "      <td>180</td>\n",
       "      <td>2018-10-19</td>\n",
       "      <td>10.0</td>\n",
       "      <td>138</td>\n",
       "      <td>...</td>\n",
       "      <td>13</td>\n",
       "      <td>0.151444</td>\n",
       "      <td>0.051256</td>\n",
       "      <td>4.934474</td>\n",
       "      <td>2.397895</td>\n",
       "      <td>5.198497</td>\n",
       "      <td>1.945910</td>\n",
       "      <td>1.609438</td>\n",
       "      <td>3.135494</td>\n",
       "      <td>2.944439</td>\n",
       "    </tr>\n",
       "    <tr>\n",
       "      <th>4830</th>\n",
       "      <td>segmentio/cwlogs</td>\n",
       "      <td>5</td>\n",
       "      <td>10</td>\n",
       "      <td>2.0</td>\n",
       "      <td>8.0</td>\n",
       "      <td>MIT</td>\n",
       "      <td>36</td>\n",
       "      <td>2017-05-22</td>\n",
       "      <td>10.0</td>\n",
       "      <td>142</td>\n",
       "      <td>...</td>\n",
       "      <td>338</td>\n",
       "      <td>0.022733</td>\n",
       "      <td>0.022886</td>\n",
       "      <td>4.962845</td>\n",
       "      <td>2.397895</td>\n",
       "      <td>3.610918</td>\n",
       "      <td>2.397895</td>\n",
       "      <td>1.791759</td>\n",
       "      <td>2.197225</td>\n",
       "      <td>1.098612</td>\n",
       "    </tr>\n",
       "    <tr>\n",
       "      <th>5157</th>\n",
       "      <td>GoogleCloudPlatform/metacontroller</td>\n",
       "      <td>46</td>\n",
       "      <td>1035</td>\n",
       "      <td>671.0</td>\n",
       "      <td>108.0</td>\n",
       "      <td>Apache-2.0</td>\n",
       "      <td>271</td>\n",
       "      <td>2017-09-15</td>\n",
       "      <td>18.0</td>\n",
       "      <td>789</td>\n",
       "      <td>...</td>\n",
       "      <td>74</td>\n",
       "      <td>0.932322</td>\n",
       "      <td>0.016785</td>\n",
       "      <td>6.672033</td>\n",
       "      <td>2.944439</td>\n",
       "      <td>5.605802</td>\n",
       "      <td>6.943122</td>\n",
       "      <td>3.850148</td>\n",
       "      <td>4.691348</td>\n",
       "      <td>6.510258</td>\n",
       "    </tr>\n",
       "    <tr>\n",
       "      <th>8385</th>\n",
       "      <td>google/schedviz</td>\n",
       "      <td>34</td>\n",
       "      <td>561</td>\n",
       "      <td>159.0</td>\n",
       "      <td>28.0</td>\n",
       "      <td>Apache-2.0</td>\n",
       "      <td>197</td>\n",
       "      <td>2019-07-24</td>\n",
       "      <td>15.0</td>\n",
       "      <td>505</td>\n",
       "      <td>...</td>\n",
       "      <td>67</td>\n",
       "      <td>0.150992</td>\n",
       "      <td>0.092676</td>\n",
       "      <td>6.226537</td>\n",
       "      <td>2.772589</td>\n",
       "      <td>5.288267</td>\n",
       "      <td>6.331502</td>\n",
       "      <td>3.555348</td>\n",
       "      <td>3.367296</td>\n",
       "      <td>5.075174</td>\n",
       "    </tr>\n",
       "  </tbody>\n",
       "</table>\n",
       "<p>5 rows × 26 columns</p>\n",
       "</div>"
      ]
     },
     "execution_count": 411,
     "metadata": {},
     "output_type": "execute_result"
    }
   ],
   "execution_count": 411
  },
  {
   "metadata": {
    "ExecuteTime": {
     "end_time": "2024-08-20T04:45:06.296950Z",
     "start_time": "2024-08-20T04:45:06.292751Z"
    }
   },
   "cell_type": "code",
   "source": "sample['log_similarities']",
   "id": "ee3b514d27221ff",
   "outputs": [
    {
     "data": {
      "text/plain": [
       "1438     1.945910\n",
       "7527     2.944439\n",
       "4830     1.098612\n",
       "5157     6.510258\n",
       "8385     5.075174\n",
       "           ...   \n",
       "2404     3.555348\n",
       "11438    4.852030\n",
       "205      5.963579\n",
       "12950    1.098612\n",
       "3335     4.143135\n",
       "Name: log_similarities, Length: 100, dtype: float64"
      ]
     },
     "execution_count": 412,
     "metadata": {},
     "output_type": "execute_result"
    }
   ],
   "execution_count": 412
  },
  {
   "metadata": {
    "ExecuteTime": {
     "end_time": "2024-08-20T04:45:06.412008Z",
     "start_time": "2024-08-20T04:45:06.298447Z"
    }
   },
   "cell_type": "code",
   "source": "plt.scatter(sample['log_analyzed_paths'], sample['log_similarities'])",
   "id": "7869e3613cc2f79",
   "outputs": [
    {
     "data": {
      "text/plain": [
       "<matplotlib.collections.PathCollection at 0x3188d25c0>"
      ]
     },
     "execution_count": 413,
     "metadata": {},
     "output_type": "execute_result"
    },
    {
     "data": {
      "text/plain": [
       "<Figure size 640x480 with 1 Axes>"
      ],
      "image/png": "[encoded data removed]"
     },
     "metadata": {},
     "output_type": "display_data"
    }
   ],
   "execution_count": 413
  },
  {
   "metadata": {
    "ExecuteTime": {
     "end_time": "2024-08-20T04:45:06.517336Z",
     "start_time": "2024-08-20T04:45:06.413812Z"
    }
   },
   "cell_type": "code",
   "source": "plt.scatter(sample['log_issues'], sample['log_similarities'])",
   "id": "a0de679230a330ef",
   "outputs": [
    {
     "data": {
      "text/plain": [
       "<matplotlib.collections.PathCollection at 0x145373d30>"
      ]
     },
     "execution_count": 414,
     "metadata": {},
     "output_type": "execute_result"
    },
    {
     "data": {
      "text/plain": [
       "<Figure size 640x480 with 1 Axes>"
      ],
      "image/png": "[encoded data removed]"
     },
     "metadata": {},
     "output_type": "display_data"
    }
   ],
   "execution_count": 414
  },
  {
   "metadata": {
    "ExecuteTime": {
     "end_time": "2024-08-20T04:45:06.712056Z",
     "start_time": "2024-08-20T04:45:06.524455Z"
    }
   },
   "cell_type": "code",
   "source": "plt.scatter(sample['log_pairs'], sample['similarities'])",
   "id": "afaa945bfda26aa9",
   "outputs": [
    {
     "data": {
      "text/plain": [
       "<matplotlib.collections.PathCollection at 0x145497670>"
      ]
     },
     "execution_count": 415,
     "metadata": {},
     "output_type": "execute_result"
    },
    {
     "data": {
      "text/plain": [
       "<Figure size 640x480 with 1 Axes>"
      ],
      "image/png": "[encoded data removed]"
     },
     "metadata": {},
     "output_type": "display_data"
    }
   ],
   "execution_count": 415
  },
  {
   "metadata": {
    "ExecuteTime": {
     "end_time": "2024-08-20T04:45:06.936956Z",
     "start_time": "2024-08-20T04:45:06.716451Z"
    }
   },
   "cell_type": "code",
   "source": "plt.scatter(sample['log_stars'], sample['log_similarities'])",
   "id": "63d9cf60775e89f5",
   "outputs": [
    {
     "data": {
      "text/plain": [
       "<matplotlib.collections.PathCollection at 0x146d17a30>"
      ]
     },
     "execution_count": 416,
     "metadata": {},
     "output_type": "execute_result"
    },
    {
     "data": {
      "text/plain": [
       "<Figure size 640x480 with 1 Axes>"
      ],
      "image/png": "[encoded data removed]"
     },
     "metadata": {},
     "output_type": "display_data"
    }
   ],
   "execution_count": 416
  },
  {
   "metadata": {
    "ExecuteTime": {
     "end_time": "2024-08-20T04:45:07.105400Z",
     "start_time": "2024-08-20T04:45:06.947908Z"
    }
   },
   "cell_type": "code",
   "source": "plt.scatter(sample['log_contributors'], sample['log_similarities'])",
   "id": "259645a2f753418e",
   "outputs": [
    {
     "data": {
      "text/plain": [
       "<matplotlib.collections.PathCollection at 0x146e79c90>"
      ]
     },
     "execution_count": 417,
     "metadata": {},
     "output_type": "execute_result"
    },
    {
     "data": {
      "text/plain": [
       "<Figure size 640x480 with 1 Axes>"
      ],
      "image/png": "[encoded data removed]"
     },
     "metadata": {},
     "output_type": "display_data"
    }
   ],
   "execution_count": 417
  },
  {
   "metadata": {
    "ExecuteTime": {
     "end_time": "2024-08-20T04:45:07.300130Z",
     "start_time": "2024-08-20T04:45:07.107755Z"
    }
   },
   "cell_type": "code",
   "source": "plt.scatter(sample['log_commits'], sample['log_similarities'])",
   "id": "2769fe5ae525e40b",
   "outputs": [
    {
     "data": {
      "text/plain": [
       "<matplotlib.collections.PathCollection at 0x3150e1fc0>"
      ]
     },
     "execution_count": 418,
     "metadata": {},
     "output_type": "execute_result"
    },
    {
     "data": {
      "text/plain": [
       "<Figure size 640x480 with 1 Axes>"
      ],
      "image/png": "[encoded data removed]"
     },
     "metadata": {},
     "output_type": "display_data"
    }
   ],
   "execution_count": 418
  },
  {
   "metadata": {
    "ExecuteTime": {
     "end_time": "2024-08-20T04:45:07.313171Z",
     "start_time": "2024-08-20T04:45:07.304851Z"
    }
   },
   "cell_type": "code",
   "source": [
    "reg_stars = np.polyfit(sample['log_stars'], sample['log_similarities'], deg = 1)\n",
    "reg_stars"
   ],
   "id": "6892d0269285afe0",
   "outputs": [
    {
     "data": {
      "text/plain": [
       "array([0.2193757 , 2.61394717])"
      ]
     },
     "execution_count": 419,
     "metadata": {},
     "output_type": "execute_result"
    }
   ],
   "execution_count": 419
  },
  {
   "metadata": {
    "ExecuteTime": {
     "end_time": "2024-08-20T04:45:07.487463Z",
     "start_time": "2024-08-20T04:45:07.315215Z"
    }
   },
   "cell_type": "code",
   "source": [
    "trend_stars = np.polyval(reg_stars, sample['log_stars'])\n",
    "plt.scatter(sample['log_stars'], sample['log_similarities'])\n",
    "plt.plot(sample['log_stars'], trend_stars, color='red')"
   ],
   "id": "b665a53610038a00",
   "outputs": [
    {
     "data": {
      "text/plain": [
       "[<matplotlib.lines.Line2D at 0x315137f10>]"
      ]
     },
     "execution_count": 420,
     "metadata": {},
     "output_type": "execute_result"
    },
    {
     "data": {
      "text/plain": [
       "<Figure size 640x480 with 1 Axes>"
      ],
      "image/png": "[encoded data removed]"
     },
     "metadata": {},
     "output_type": "display_data"
    }
   ],
   "execution_count": 420
  },
  {
   "metadata": {
    "ExecuteTime": {
     "end_time": "2024-08-20T04:45:07.496412Z",
     "start_time": "2024-08-20T04:45:07.490139Z"
    }
   },
   "cell_type": "code",
   "source": [
    "reg_contributors = np.polyfit(sample['log_contributors'], sample['log_similarities'], deg = 1)\n",
    "reg_contributors"
   ],
   "id": "9fa1da0e77cbf24",
   "outputs": [
    {
     "data": {
      "text/plain": [
       "array([0.65495945, 2.33972726])"
      ]
     },
     "execution_count": 421,
     "metadata": {},
     "output_type": "execute_result"
    }
   ],
   "execution_count": 421
  },
  {
   "metadata": {
    "ExecuteTime": {
     "end_time": "2024-08-20T04:45:07.619399Z",
     "start_time": "2024-08-20T04:45:07.499601Z"
    }
   },
   "cell_type": "code",
   "source": [
    "trend_contributors = np.polyval(reg_contributors, sample['log_contributors'])\n",
    "plt.scatter(sample['log_contributors'], sample['log_similarities'])\n",
    "plt.plot(sample['log_contributors'], trend_contributors, color='red')"
   ],
   "id": "c4acd260543462bb",
   "outputs": [
    {
     "data": {
      "text/plain": [
       "[<matplotlib.lines.Line2D at 0x317548040>]"
      ]
     },
     "execution_count": 422,
     "metadata": {},
     "output_type": "execute_result"
    },
    {
     "data": {
      "text/plain": [
       "<Figure size 640x480 with 1 Axes>"
      ],
      "image/png": "[encoded data removed]"
     },
     "metadata": {},
     "output_type": "display_data"
    }
   ],
   "execution_count": 422
  },
  {
   "metadata": {
    "ExecuteTime": {
     "end_time": "2024-08-20T04:45:07.625832Z",
     "start_time": "2024-08-20T04:45:07.621049Z"
    }
   },
   "cell_type": "code",
   "source": [
    "reg_commits = np.polyfit(sample['log_commits'], sample['log_similarities'], deg = 1)\n",
    "reg_commits"
   ],
   "id": "51265cb7c0e723da",
   "outputs": [
    {
     "data": {
      "text/plain": [
       "array([0.60051419, 0.80034255])"
      ]
     },
     "execution_count": 423,
     "metadata": {},
     "output_type": "execute_result"
    }
   ],
   "execution_count": 423
  },
  {
   "metadata": {
    "ExecuteTime": {
     "end_time": "2024-08-20T04:45:07.760074Z",
     "start_time": "2024-08-20T04:45:07.626617Z"
    }
   },
   "cell_type": "code",
   "source": [
    "trend_commits = np.polyval(reg_commits, sample['log_commits'])\n",
    "plt.scatter(sample['log_commits'], sample['log_similarities'])\n",
    "plt.plot(sample['log_commits'], trend_commits, color='red')"
   ],
   "id": "887722d4b3e324c4",
   "outputs": [
    {
     "data": {
      "text/plain": [
       "[<matplotlib.lines.Line2D at 0x316744310>]"
      ]
     },
     "execution_count": 424,
     "metadata": {},
     "output_type": "execute_result"
    },
    {
     "data": {
      "text/plain": [
       "<Figure size 640x480 with 1 Axes>"
      ],
      "image/png": "[encoded data removed]"
     },
     "metadata": {},
     "output_type": "display_data"
    }
   ],
   "execution_count": 424
  },
  {
   "metadata": {
    "ExecuteTime": {
     "end_time": "2024-08-20T04:45:07.769526Z",
     "start_time": "2024-08-20T04:45:07.764932Z"
    }
   },
   "cell_type": "code",
   "source": [
    "reg_pairs = np.polyfit(sample['log_pairs'], sample['log_similarities'], deg = 1)\n",
    "reg_pairs"
   ],
   "id": "bcff1c6e6f810892",
   "outputs": [
    {
     "data": {
      "text/plain": [
       "array([0.53891113, 1.32854311])"
      ]
     },
     "execution_count": 425,
     "metadata": {},
     "output_type": "execute_result"
    }
   ],
   "execution_count": 425
  },
  {
   "metadata": {
    "ExecuteTime": {
     "end_time": "2024-08-20T04:45:07.866797Z",
     "start_time": "2024-08-20T04:45:07.771508Z"
    }
   },
   "cell_type": "code",
   "source": [
    "trend_pairs = np.polyval(reg_pairs, sample['log_pairs'])\n",
    "plt.scatter(sample['log_pairs'], sample['log_similarities'])\n",
    "plt.plot(sample['log_pairs'], trend_pairs, color='red')"
   ],
   "id": "d67c4639a94447dd",
   "outputs": [
    {
     "data": {
      "text/plain": [
       "[<matplotlib.lines.Line2D at 0x1539a1090>]"
      ]
     },
     "execution_count": 426,
     "metadata": {},
     "output_type": "execute_result"
    },
    {
     "data": {
      "text/plain": [
       "<Figure size 640x480 with 1 Axes>"
      ],
      "image/png": "[encoded data removed]"
     },
     "metadata": {},
     "output_type": "display_data"
    }
   ],
   "execution_count": 426
  },
  {
   "metadata": {
    "ExecuteTime": {
     "end_time": "2024-08-20T04:45:07.874660Z",
     "start_time": "2024-08-20T04:45:07.869355Z"
    }
   },
   "cell_type": "code",
   "source": [
    "reg_analyzed_paths = np.polyfit(sample['log_analyzed_paths'], sample['log_similarities'], deg = 1)\n",
    "reg_analyzed_paths"
   ],
   "id": "a7392d55823bae92",
   "outputs": [
    {
     "data": {
      "text/plain": [
       "array([1.14982669, 0.63225278])"
      ]
     },
     "execution_count": 427,
     "metadata": {},
     "output_type": "execute_result"
    }
   ],
   "execution_count": 427
  },
  {
   "metadata": {
    "ExecuteTime": {
     "end_time": "2024-08-20T04:45:07.973809Z",
     "start_time": "2024-08-20T04:45:07.876330Z"
    }
   },
   "cell_type": "code",
   "source": [
    "trend_analyzed_paths = np.polyval(reg_analyzed_paths, sample['log_analyzed_paths'])\n",
    "plt.scatter(sample['log_analyzed_paths'], sample['log_similarities'])\n",
    "plt.plot(sample['log_analyzed_paths'], trend_analyzed_paths, color='red')"
   ],
   "id": "26c407e31e9dc09e",
   "outputs": [
    {
     "data": {
      "text/plain": [
       "[<matplotlib.lines.Line2D at 0x168e3d450>]"
      ]
     },
     "execution_count": 428,
     "metadata": {},
     "output_type": "execute_result"
    },
    {
     "data": {
      "text/plain": [
       "<Figure size 640x480 with 1 Axes>"
      ],
      "image/png": "[encoded data removed]"
     },
     "metadata": {},
     "output_type": "display_data"
    }
   ],
   "execution_count": 428
  },
  {
   "metadata": {
    "ExecuteTime": {
     "end_time": "2024-08-20T04:45:07.985851Z",
     "start_time": "2024-08-20T04:45:07.976261Z"
    }
   },
   "cell_type": "code",
   "source": [
    "reg_issues = np.polyfit(sample['log_issues'], sample['log_similarities'], deg = 1)\n",
    "reg_issues"
   ],
   "id": "539590a4587731c3",
   "outputs": [
    {
     "data": {
      "text/plain": [
       "array([0.52536813, 2.08663029])"
      ]
     },
     "execution_count": 429,
     "metadata": {},
     "output_type": "execute_result"
    }
   ],
   "execution_count": 429
  },
  {
   "metadata": {
    "ExecuteTime": {
     "end_time": "2024-08-20T04:45:08.121031Z",
     "start_time": "2024-08-20T04:45:07.988136Z"
    }
   },
   "cell_type": "code",
   "source": [
    "trend_issues = np.polyval(reg_issues, sample['log_issues'])\n",
    "plt.scatter(sample['log_issues'], sample['log_similarities'])\n",
    "plt.plot(sample['log_issues'], trend_issues, color='red')"
   ],
   "id": "6b9122427a31c44",
   "outputs": [
    {
     "data": {
      "text/plain": [
       "[<matplotlib.lines.Line2D at 0x135db65c0>]"
      ]
     },
     "execution_count": 430,
     "metadata": {},
     "output_type": "execute_result"
    },
    {
     "data": {
      "text/plain": [
       "<Figure size 640x480 with 1 Axes>"
      ],
      "image/png": "[encoded data removed]"
     },
     "metadata": {},
     "output_type": "display_data"
    }
   ],
   "execution_count": 430
  },
  {
   "metadata": {
    "ExecuteTime": {
     "end_time": "2024-08-20T04:45:08.332565Z",
     "start_time": "2024-08-20T04:45:08.125906Z"
    }
   },
   "cell_type": "code",
   "source": "sb.regplot(x='log_stars', y='log_similarities', data=sample)",
   "id": "161a1e5345dc00e2",
   "outputs": [
    {
     "data": {
      "text/plain": [
       "<Axes: xlabel='log_stars', ylabel='log_similarities'>"
      ]
     },
     "execution_count": 431,
     "metadata": {},
     "output_type": "execute_result"
    },
    {
     "data": {
      "text/plain": [
       "<Figure size 640x480 with 1 Axes>"
      ],
      "image/png": "[encoded data removed]"
     },
     "metadata": {},
     "output_type": "display_data"
    }
   ],
   "execution_count": 431
  },
  {
   "metadata": {
    "ExecuteTime": {
     "end_time": "2024-08-20T04:45:32.417838Z",
     "start_time": "2024-08-20T04:45:32.354866Z"
    }
   },
   "cell_type": "code",
   "source": [
    "from sklearn.linear_model import RANSACRegressor\n",
    "\n",
    "X = df[['log_stars', 'log_contributors', 'log_commits', 'log_pairs', 'log_analyzed_paths', 'log_issues']]\n",
    "y = df['log_similarities']\n",
    "\n",
    "X_train, X_test, y_train, y_test = train_test_split(X, y, test_size=0.2, random_state=42)\n",
    "ransac = RANSACRegressor(LinearRegression())\n",
    "ransac.fit(X_train, y_train)\n",
    "y_pred = ransac.predict(X_test)\n",
    "\n",
    "mse = mean_squared_error(y_test, y_pred)\n",
    "print(f\"Mean Squared Error (RANSAC): {mse}\")\n"
   ],
   "id": "aa235e6939e46491",
   "outputs": [
    {
     "name": "stdout",
     "output_type": "stream",
     "text": [
      "Mean Squared Error (RANSAC): 1.359477048450637\n"
     ]
    }
   ],
   "execution_count": 435
  },
  {
   "metadata": {
    "ExecuteTime": {
     "end_time": "2024-08-20T04:45:39.906130Z",
     "start_time": "2024-08-20T04:45:39.753300Z"
    }
   },
   "cell_type": "code",
   "source": [
    "sample = df.sample(100)\n",
    "\n",
    "\n",
    "trend_stars_ransac = np.polyval(np.polyfit(sample['log_stars'], ransac.predict(sample[['log_stars', 'log_contributors', 'log_commits', 'log_pairs', 'log_analyzed_paths', 'log_issues']]), 1), sample['log_stars'])\n",
    "plt.scatter(sample['log_stars'], sample['similarities'], alpha=0.6, color='blue')\n",
    "plt.plot(sample['log_stars'], trend_stars_ransac, color='red', linewidth=2)\n",
    "plt.xlabel('Log of Stars')\n",
    "plt.ylabel('Similarities')\n",
    "plt.title('Trend Between Log Stars and Similarities (RANSAC)')\n",
    "plt.grid(True)\n",
    "plt.show()\n"
   ],
   "id": "c20b4fccae3d91f8",
   "outputs": [
    {
     "data": {
      "text/plain": [
       "<Figure size 640x480 with 1 Axes>"
      ],
      "image/png": "[encoded data removed]"
     },
     "metadata": {},
     "output_type": "display_data"
    }
   ],
   "execution_count": 437
  },
  {
   "metadata": {},
   "cell_type": "markdown",
   "source": "# Regression as a Technical Indicator",
   "id": "23db38cb4eef9f96"
  },
  {
   "metadata": {},
   "cell_type": "code",
   "source": [
    "reg1 = np.polyfit(sample['log_stars'], sample['similarities'], deg = 1)\n",
    "reg1"
   ],
   "id": "13bac64995c24c17",
   "outputs": [],
   "execution_count": null
  },
  {
   "metadata": {},
   "cell_type": "code",
   "source": [
    "trend1 = np.polyval(reg1, sample['log_stars'][-63:])\n",
    "std = sample['similarities'][-63:].std()\n",
    "plt.plot(sample['log_stars'], sample['similarities'], label = 'Similarities')"
   ],
   "id": "34c844a978e295a0",
   "outputs": [],
   "execution_count": null
  },
  {
   "metadata": {},
   "cell_type": "markdown",
   "source": "## Correlation Analysis",
   "id": "20639e05f5e877fa"
  },
  {
   "metadata": {},
   "cell_type": "code",
   "source": [
    "corr_matrix = df.corr(numeric_only=True)\n",
    "\n",
    "plt.figure(figsize=(12, 10))\n",
    "sb.heatmap(corr_matrix, annot=True, cmap='coolwarm', linewidths=0.5)\n",
    "plt.title('Correlation Matrix')\n",
    "plt.show()"
   ],
   "id": "abce8bf139e2f1fb",
   "outputs": [],
   "execution_count": null
  },
  {
   "metadata": {},
   "cell_type": "markdown",
   "source": "# Random Forest",
   "id": "7ac0dc8caea78189"
  },
  {
   "metadata": {},
   "cell_type": "code",
   "source": [
    "from sklearn.ensemble import RandomForestRegressor\n",
    "\n",
    "X = df_nona[['stars', 'contributors', 'commits', 'pairs', 'analyzed_paths', 'issues']]\n",
    "y = df_nona['similarities']\n",
    "\n",
    "model = RandomForestRegressor(random_state=42)\n",
    "model.fit(X, y)\n",
    "\n",
    "feature_importances = pd.Series(model.feature_importances_, index=X.columns)\n",
    "\n",
    "feature_importances.sort_values().plot(kind='barh', color='royalblue')\n",
    "plt.title('Feature Importances')\n",
    "plt.show()"
   ],
   "id": "1f07f456738c9888",
   "outputs": [],
   "execution_count": null
  },
  {
   "metadata": {},
   "cell_type": "markdown",
   "source": "# Topic Distribution",
   "id": "856e499cef0f0f42"
  },
  {
   "metadata": {},
   "cell_type": "code",
   "source": [
    "topic_columns = [col for col in df.columns if 'topic' in col]\n",
    "\n",
    "tdf = df_nona.copy()\n",
    "tdf['max_value_topic'] = tdf[topic_columns].apply(lambda row: row.idxmax(), axis=1)\n",
    "tdf['max_value_topic_amount'] = tdf[topic_columns].apply(lambda row: row.max(), axis=1)\n",
    "# tdf.head()\n",
    "\n",
    "\n",
    "\n",
    "\n"
   ],
   "id": "73e949321177be31",
   "outputs": [],
   "execution_count": null
  },
  {
   "metadata": {},
   "cell_type": "code",
   "source": [
    "tdf_resources = tdf[tdf['max_value_topic'] == 'topics.topic_3']\n",
    "tdf_resources"
   ],
   "id": "2c561c3e20f04cce",
   "outputs": [],
   "execution_count": null
  },
  {
   "metadata": {},
   "cell_type": "code",
   "source": [
    "colors = ['royalblue', 'orange', 'green', 'red', 'cyan']\n",
    "tdf_filtered = tdf[tdf['similarities'] > 1]\n",
    "count_series = tdf_filtered['max_value_topic'].map(TOPICS).value_counts()\n",
    "count_series = count_series.sort_values(ascending=True)\n",
    "plt.figure(figsize=(14, 8))\n",
    "count_series.plot(kind='bar', alpha=0.7, color=colors)\n",
    "plt.xlabel('Topic')\n",
    "plt.xticks(rotation=45)\n",
    "plt.ylabel('Frequency')\n",
    "plt.title('Frequency of Topics')\n",
    "plt.show()\n"
   ],
   "id": "1b379de6ef8ab770",
   "outputs": [],
   "execution_count": null
  },
  {
   "metadata": {},
   "cell_type": "code",
   "source": [
    "plt.figure(figsize=(10, 10))\n",
    "_, _, autotexts = plt.pie(count_series, labels=count_series.index, autopct='%1.1f%%', colors=colors)\n",
    "for autotext in autotexts:\n",
    "\tautotext.set_color('black')\n",
    "plt.title('Frequency of Topics')\n",
    "plt.show()\n",
    "\n"
   ],
   "id": "a4cbd3442098ae7d",
   "outputs": [],
   "execution_count": null
  },
  {
   "metadata": {},
   "cell_type": "code",
   "source": [
    "# verify nones\n",
    "# count topics \n",
    "count_series = tdf['max_value_topic'].map(TOPICS).value_counts()\n",
    "count_series"
   ],
   "id": "b5cfb2ebfb125d9d",
   "outputs": [],
   "execution_count": null
  },
  {
   "metadata": {},
   "cell_type": "markdown",
   "source": "# Topic Distribution With Nones\n",
   "id": "b2d5ce3d79f45322"
  },
  {
   "metadata": {},
   "cell_type": "code",
   "source": [
    "topic_columns = [col for col in df.columns if 'topic' in col]\n",
    "\n",
    "tdf = df.copy()\n",
    "tdf['max_value_topic'] = tdf[topic_columns].apply(lambda row: row.idxmax(), axis=1)\n",
    "tdf['max_value_topic_amount'] = tdf[topic_columns].apply(lambda row: row.max(), axis=1)\n",
    "tdf.head()\n"
   ],
   "id": "dc22d081bcb50251",
   "outputs": [],
   "execution_count": null
  },
  {
   "metadata": {},
   "cell_type": "code",
   "source": [
    "colors = ['royalblue', 'orange', 'green', 'red', 'cyan']\n",
    "tdf_filtered = tdf[tdf['similarities'] > 1]\n",
    "count_series = tdf_filtered['max_value_topic'].map(TOPICS).value_counts()\n",
    "count_series = count_series.sort_values(ascending=True)\n",
    "plt.figure(figsize=(14, 8))\n",
    "count_series.plot(kind='bar', alpha=0.7, color=colors)\n",
    "plt.xlabel('Topic')\n",
    "plt.xticks(rotation=45)\n",
    "plt.ylabel('Frequency')\n",
    "plt.title('Frequency of Topics')\n",
    "plt.show()"
   ],
   "id": "da1332d22fa3d9a1",
   "outputs": [],
   "execution_count": null
  },
  {
   "metadata": {},
   "cell_type": "code",
   "source": [
    "plt.figure(figsize=(10, 10))\n",
    "_, _, autotexts = plt.pie(count_series, labels=count_series.index, autopct='%1.1f%%', colors=colors)\n",
    "for autotext in autotexts:\n",
    "    autotext.set_color('black')\n",
    "plt.title('Frequency of Topics')\n",
    "plt.show()\n",
    "\n"
   ],
   "id": "12d8e9af4e2bdeed",
   "outputs": [],
   "execution_count": null
  },
  {
   "metadata": {},
   "cell_type": "code",
   "source": [
    "count_series = tdf['max_value_topic'].map(TOPICS).value_counts()\n",
    "count_series\n"
   ],
   "id": "7f7d2c3b1f5eac63",
   "outputs": [],
   "execution_count": null
  },
  {
   "metadata": {},
   "cell_type": "markdown",
   "source": "# Clone Density\n",
   "id": "e9d0c8d2e8b47f22"
  },
  {
   "metadata": {},
   "cell_type": "code",
   "source": [
    "tdf['clone_density'] = (tdf['loc.nFiles'] / tdf['similarities']) * 1000\n",
    "tdf.head()"
   ],
   "id": "bd24b7b1406a2357",
   "outputs": [],
   "execution_count": null
  },
  {
   "metadata": {},
   "cell_type": "code",
   "source": [
    "# Assuming df is your DataFrame with the clone density already calculated\n",
    "plt.figure(figsize=(10, 6))\n",
    "\n",
    "# Density Plot\n",
    "sb.kdeplot(tdf['clone_density'], fill=True, color='royalblue')\n",
    "\n",
    "# Adding titles and labels\n",
    "# plt.title('Density Plot of Clone Density per 1,000 Files Across Repositories', fontsize=16)\n",
    "plt.xlabel('Clone Density per 1,000 Files', fontsize=14)\n",
    "plt.ylabel('Density', fontsize=14)\n",
    "\n",
    "# Display the plot\n",
    "plt.show()"
   ],
   "id": "751e92554d2e264f",
   "outputs": [],
   "execution_count": null
  },
  {
   "metadata": {},
   "cell_type": "code",
   "source": [
    "plt.figure(figsize=(10, 6))\n",
    "\n",
    "# Histogram\n",
    "sb.histplot(tdf['clone_density'], kde=False, bins=30, color='skyblue')\n",
    "\n",
    "# Adding titles and labels\n",
    "plt.title('Distribution of Clone Density per 1,000 Files Across Repositories', fontsize=16)\n",
    "plt.xlabel('Clone Density per 1,000 Files', fontsize=14)\n",
    "plt.ylabel('Number of Repositories', fontsize=14)\n",
    "\n",
    "# Display the plot\n",
    "plt.show()"
   ],
   "id": "bcd1dd37a7215186",
   "outputs": [],
   "execution_count": null
  }
 ],
 "metadata": {
  "kernelspec": {
   "display_name": "Python 3",
   "language": "python",
   "name": "python3"
  },
  "language_info": {
   "codemirror_mode": {
    "name": "ipython",
    "version": 2
   },
   "file_extension": ".py",
   "mimetype": "text/x-python",
   "name": "python",
   "nbconvert_exporter": "python",
   "pygments_lexer": "ipython2",
   "version": "2.7.6"
  }
 },
 "nbformat": 4,
 "nbformat_minor": 5
}
