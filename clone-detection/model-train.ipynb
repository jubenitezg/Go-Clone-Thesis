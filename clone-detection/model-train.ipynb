{
 "cells": [
  {
   "cell_type": "code",
   "execution_count": null,
   "metadata": {
    "vscode": {
     "languageId": "plaintext"
    }
   },
   "outputs": [],
   "source": [
    "!pip install transformers datasets"
   ]
  },
  {
   "cell_type": "code",
   "execution_count": null,
   "metadata": {
    "vscode": {
     "languageId": "plaintext"
    }
   },
   "outputs": [],
   "source": [
    "from datasets import load_dataset\n",
    "from transformers import AutoModelForSequenceClassification, Trainer, TrainingArguments\n",
    "from transformers import AutoTokenizer\n",
    "import numpy as np\n",
    "from sklearn.metrics import accuracy_score"
   ]
  },
  {
   "cell_type": "code",
   "execution_count": null,
   "metadata": {
    "vscode": {
     "languageId": "plaintext"
    }
   },
   "outputs": [],
   "source": [
    "dataset = load_dataset(\"PoolC/5-fold-clone-detection-600k-5fold\")"
   ]
  },
  {
   "cell_type": "code",
   "execution_count": null,
   "metadata": {
    "vscode": {
     "languageId": "plaintext"
    }
   },
   "outputs": [],
   "source": [
    "# Copyright (c) Microsoft Corporation.\n",
    "# Licensed under the MIT license.\n",
    "\n",
    "import torch\n",
    "import torch.nn as nn\n",
    "from transformers import RobertaTokenizer, RobertaModel, RobertaConfig\n",
    "\n",
    "class UniXcoder(nn.Module):\n",
    "    def __init__(self, model_name):\n",
    "        \"\"\"\n",
    "            Build UniXcoder.\n",
    "\n",
    "            Parameters:\n",
    "\n",
    "            * `model_name`- huggingface model card name. e.g. microsoft/unixcoder-base\n",
    "        \"\"\"\n",
    "        super(UniXcoder, self).__init__()\n",
    "        self.tokenizer = RobertaTokenizer.from_pretrained(model_name)\n",
    "        self.config = RobertaConfig.from_pretrained(model_name)\n",
    "        self.config.is_decoder = True\n",
    "        self.model = RobertaModel.from_pretrained(model_name, config=self.config)\n",
    "\n",
    "        self.register_buffer(\"bias\", torch.tril(torch.ones((1024, 1024), dtype=torch.uint8)).view(1,1024, 1024))\n",
    "        self.lm_head = nn.Linear(self.config.hidden_size, self.config.vocab_size, bias=False)\n",
    "        self.lm_head.weight = self.model.embeddings.word_embeddings.weight\n",
    "        self.lsm = nn.LogSoftmax(dim=-1)\n",
    "\n",
    "        self.tokenizer.add_tokens([\"<mask0>\"],special_tokens=True)\n",
    "\n",
    "    def tokenize(self, inputs, mode=\"<encoder-only>\", max_length=512, padding=False):\n",
    "        \"\"\"\n",
    "        Convert string to token ids\n",
    "\n",
    "        Parameters:\n",
    "\n",
    "        * `inputs`- list of input strings.\n",
    "        * `max_length`- The maximum total source sequence length after tokenization.\n",
    "        * `padding`- whether to pad source sequence length to max_length.\n",
    "        * `mode`- which mode the sequence will use. i.e. <encoder-only>, <decoder-only>, <encoder-decoder>\n",
    "        \"\"\"\n",
    "        assert mode in [\"<encoder-only>\", \"<decoder-only>\", \"<encoder-decoder>\"]\n",
    "        assert max_length < 1024\n",
    "\n",
    "        tokenizer = self.tokenizer\n",
    "\n",
    "        tokens_ids = []\n",
    "        for x in inputs:\n",
    "            tokens = tokenizer.tokenize(x)\n",
    "            if mode == \"<encoder-only>\":\n",
    "                tokens = tokens[:max_length-4]\n",
    "                tokens = [tokenizer.cls_token,mode,tokenizer.sep_token] + tokens + [tokenizer.sep_token]\n",
    "            elif mode == \"<decoder-only>\":\n",
    "                tokens = tokens[-(max_length-3):]\n",
    "                tokens = [tokenizer.cls_token,mode,tokenizer.sep_token] + tokens\n",
    "            else:\n",
    "                tokens = tokens[:max_length-5]\n",
    "                tokens = [tokenizer.cls_token,mode,tokenizer.sep_token] + tokens + [tokenizer.sep_token]\n",
    "\n",
    "            tokens_id = tokenizer.convert_tokens_to_ids(tokens)\n",
    "            if padding:\n",
    "                tokens_id = tokens_id + [self.config.pad_token_id] * (max_length-len(tokens_id))\n",
    "            tokens_ids.append(tokens_id)\n",
    "        return tokens_ids\n",
    "\n",
    "    def decode(self, source_ids):\n",
    "        \"\"\" Convert token ids to string \"\"\"\n",
    "        predictions = []\n",
    "        for x in source_ids:\n",
    "            prediction = []\n",
    "            for y in x:\n",
    "                t = y.cpu().numpy()\n",
    "                t = list(t)\n",
    "                if 0 in t:\n",
    "                    t = t[:t.index(0)]\n",
    "                text = self.tokenizer.decode(t,clean_up_tokenization_spaces=False)\n",
    "                prediction.append(text)\n",
    "            predictions.append(prediction)\n",
    "        return predictions\n",
    "\n",
    "    def forward(self, source_ids):\n",
    "        \"\"\" Obtain token embeddings and sentence embeddings \"\"\"\n",
    "        mask = source_ids.ne(self.config.pad_token_id)\n",
    "        token_embeddings = self.model(source_ids,attention_mask = mask.unsqueeze(1) * mask.unsqueeze(2))[0]\n",
    "        sentence_embeddings = (token_embeddings * mask.unsqueeze(-1)).sum(1) / mask.sum(-1).unsqueeze(-1)\n",
    "        return token_embeddings, sentence_embeddings\n",
    "\n",
    "    def generate(self, source_ids, decoder_only = True, eos_id = None, beam_size = 5, max_length = 64):\n",
    "        \"\"\" Generate sequence given context (source_ids) \"\"\"\n",
    "\n",
    "        # Set encoder mask attention matrix: bidirectional for <encoder-decoder>, unirectional for <decoder-only>\n",
    "        if decoder_only:\n",
    "            mask = self.bias[:,:source_ids.size(-1),:source_ids.size(-1)]\n",
    "        else:\n",
    "            mask = source_ids.ne(self.config.pad_token_id)\n",
    "            mask = mask.unsqueeze(1) * mask.unsqueeze(2)\n",
    "\n",
    "        if eos_id is None:\n",
    "            eos_id = self.config.eos_token_id\n",
    "\n",
    "        device = source_ids.device\n",
    "\n",
    "        # Decoding using beam search\n",
    "        preds = []\n",
    "        zero = torch.LongTensor(1).fill_(0).to(device)\n",
    "        source_len = list(source_ids.ne(1).sum(-1).cpu().numpy())\n",
    "        length = source_ids.size(-1)\n",
    "        encoder_output = self.model(source_ids,attention_mask=mask)\n",
    "        for i in range(source_ids.shape[0]):\n",
    "            context = [[x[i:i+1,:,:source_len[i]].repeat(beam_size,1,1,1) for x in y]\n",
    "                     for y in encoder_output.past_key_values]\n",
    "            beam = Beam(beam_size,eos_id,device)\n",
    "            input_ids = beam.getCurrentState().clone()\n",
    "            context_ids = source_ids[i:i+1,:source_len[i]].repeat(beam_size,1)\n",
    "            out = encoder_output.last_hidden_state[i:i+1,:source_len[i]].repeat(beam_size,1,1)\n",
    "            for _ in range(max_length):\n",
    "                if beam.done():\n",
    "                    break\n",
    "                if _ == 0:\n",
    "                    hidden_states = out[:,-1,:]\n",
    "                    out = self.lsm(self.lm_head(hidden_states)).data\n",
    "                    beam.advance(out)\n",
    "                    input_ids.data.copy_(input_ids.data.index_select(0, beam.getCurrentOrigin()))\n",
    "                    input_ids = beam.getCurrentState().clone()\n",
    "                else:\n",
    "                    length = context_ids.size(-1)+input_ids.size(-1)\n",
    "                    out = self.model(input_ids,attention_mask=self.bias[:,context_ids.size(-1):length,:length],\n",
    "                                       past_key_values=context).last_hidden_state\n",
    "                    hidden_states = out[:,-1,:]\n",
    "                    out = self.lsm(self.lm_head(hidden_states)).data\n",
    "                    beam.advance(out)\n",
    "                    input_ids.data.copy_(input_ids.data.index_select(0, beam.getCurrentOrigin()))\n",
    "                    input_ids = torch.cat((input_ids,beam.getCurrentState().clone()),-1)\n",
    "            hyp = beam.getHyp(beam.getFinal())\n",
    "            pred = beam.buildTargetTokens(hyp)[:beam_size]\n",
    "            pred = [torch.cat([x.view(-1) for x in p]+[zero]*(max_length-len(p))).view(1,-1) for p in pred]\n",
    "            preds.append(torch.cat(pred,0).unsqueeze(0))\n",
    "\n",
    "        preds = torch.cat(preds,0)\n",
    "\n",
    "        return preds\n",
    "\n",
    "class Beam(object):\n",
    "    def __init__(self, size, eos, device):\n",
    "        self.size = size\n",
    "        self.device = device\n",
    "        # The score for each translation on the beam.\n",
    "        self.scores = torch.FloatTensor(size).zero_().to(device)\n",
    "        # The backpointers at each time-step.\n",
    "        self.prevKs = []\n",
    "        # The outputs at each time-step.\n",
    "        self.nextYs = [torch.LongTensor(size).fill_(0).to(device)]\n",
    "        # Has EOS topped the beam yet.\n",
    "        self._eos = eos\n",
    "        self.eosTop = False\n",
    "        # Time and k pair for finished.\n",
    "        self.finished = []\n",
    "\n",
    "    def getCurrentState(self):\n",
    "        \"Get the outputs for the current timestep.\"\n",
    "        batch = self.nextYs[-1].view(-1, 1)\n",
    "        return batch\n",
    "\n",
    "    def getCurrentOrigin(self):\n",
    "        \"Get the backpointers for the current timestep.\"\n",
    "        return self.prevKs[-1]\n",
    "\n",
    "    def advance(self, wordLk):\n",
    "        \"\"\"\n",
    "        Given prob over words for every last beam `wordLk` and attention\n",
    "        `attnOut`: Compute and update the beam search.\n",
    "\n",
    "        Parameters:\n",
    "\n",
    "        * `wordLk`- probs of advancing from the last step (K x words)\n",
    "        * `attnOut`- attention at the last step\n",
    "\n",
    "        Returns: True if beam search is complete.\n",
    "        \"\"\"\n",
    "        numWords = wordLk.size(1)\n",
    "\n",
    "        # Sum the previous scores.\n",
    "        if len(self.prevKs) > 0:\n",
    "            beamLk = wordLk + self.scores.unsqueeze(1).expand_as(wordLk)\n",
    "\n",
    "            # Don't let EOS have children.\n",
    "            for i in range(self.nextYs[-1].size(0)):\n",
    "                if self.nextYs[-1][i] == self._eos:\n",
    "                    beamLk[i] = -1e20\n",
    "        else:\n",
    "            beamLk = wordLk[0]\n",
    "        flatBeamLk = beamLk.view(-1)\n",
    "        bestScores, bestScoresId = flatBeamLk.topk(self.size, 0, True, True)\n",
    "\n",
    "        self.scores = bestScores\n",
    "\n",
    "        # bestScoresId is flattened beam x word array, so calculate which\n",
    "        # word and beam each score came from\n",
    "        prevK = torch.div(bestScoresId, numWords, rounding_mode=\"floor\")\n",
    "        self.prevKs.append(prevK)\n",
    "        self.nextYs.append((bestScoresId - prevK * numWords))\n",
    "\n",
    "\n",
    "        for i in range(self.nextYs[-1].size(0)):\n",
    "            if self.nextYs[-1][i] == self._eos:\n",
    "                s = self.scores[i]\n",
    "                self.finished.append((s, len(self.nextYs) - 1, i))\n",
    "\n",
    "        # End condition is when top-of-beam is EOS and no global score.\n",
    "        if self.nextYs[-1][0] == self._eos:\n",
    "            self.eosTop = True\n",
    "\n",
    "    def done(self):\n",
    "        return self.eosTop and len(self.finished) >= self.size\n",
    "\n",
    "    def getFinal(self):\n",
    "        if len(self.finished) == 0:\n",
    "            self.finished.append((self.scores[0], len(self.nextYs) - 1, 0))\n",
    "        self.finished.sort(key=lambda a: -a[0])\n",
    "        if len(self.finished) != self.size:\n",
    "            unfinished=[]\n",
    "            for i in range(self.nextYs[-1].size(0)):\n",
    "                if self.nextYs[-1][i] != self._eos:\n",
    "                    s = self.scores[i]\n",
    "                    unfinished.append((s, len(self.nextYs) - 1, i))\n",
    "            unfinished.sort(key=lambda a: -a[0])\n",
    "            self.finished+=unfinished[:self.size-len(self.finished)]\n",
    "        return self.finished[:self.size]\n",
    "\n",
    "    def getHyp(self, beam_res):\n",
    "        \"\"\"\n",
    "        Walk back to construct the full hypothesis.\n",
    "        \"\"\"\n",
    "        hyps=[]\n",
    "        for _,timestep, k in beam_res:\n",
    "            hyp = []\n",
    "            for j in range(len(self.prevKs[:timestep]) - 1, -1, -1):\n",
    "                hyp.append(self.nextYs[j+1][k])\n",
    "                k = self.prevKs[j][k]\n",
    "            hyps.append(hyp[::-1])\n",
    "        return hyps\n",
    "\n",
    "    def buildTargetTokens(self, preds):\n",
    "        sentence=[]\n",
    "        for pred in preds:\n",
    "            tokens = []\n",
    "            for tok in pred:\n",
    "                if tok==self._eos:\n",
    "                    break\n",
    "                tokens.append(tok)\n",
    "            sentence.append(tokens)\n",
    "        return sentence"
   ]
  },
  {
   "cell_type": "code",
   "execution_count": null,
   "metadata": {
    "vscode": {
     "languageId": "plaintext"
    }
   },
   "outputs": [],
   "source": [
    "model_name = \"Lazyhope/unixcoder-clone-detection\"\n",
    "device = torch.device(\"cuda\" if torch.cuda.is_available() else \"cpu\")\n",
    "model = UniXcoder(model_name)\n",
    "model.to(device)"
   ]
  },
  {
   "cell_type": "code",
   "execution_count": null,
   "metadata": {
    "vscode": {
     "languageId": "plaintext"
    }
   },
   "outputs": [],
   "source": [
    "def tokenize_function(examples):\n",
    "    return model.tokenize(examples['code'], mode='<encoder-only>')"
   ]
  },
  {
   "cell_type": "code",
   "execution_count": null,
   "metadata": {
    "vscode": {
     "languageId": "plaintext"
    }
   },
   "outputs": [],
   "source": [
    "tokenized_datasets = dataset.map(tokenize_function, batched=True)"
   ]
  },
  {
   "cell_type": "code",
   "execution_count": null,
   "metadata": {
    "vscode": {
     "languageId": "plaintext"
    }
   },
   "outputs": [],
   "source": [
    "train_dataloader = DataLoader(tokenized_datasets['train'], batch_size=16, shuffle=True)\n",
    "val_dataloader = DataLoader(tokenized_datasets['val'], batch_size=16)"
   ]
  },
  {
   "cell_type": "code",
   "execution_count": null,
   "metadata": {
    "vscode": {
     "languageId": "plaintext"
    }
   },
   "outputs": [],
   "source": []
  },
  {
   "cell_type": "code",
   "execution_count": null,
   "metadata": {
    "vscode": {
     "languageId": "plaintext"
    }
   },
   "outputs": [],
   "source": [
    "def validate_model(model, dataloader):\n",
    "    model.eval()\n",
    "    predictions, labels = [], []\n",
    "    \n",
    "    with torch.no_grad():\n",
    "        for batch in dataloader:\n",
    "            inputs = torch.tensor(batch['input_ids']).to(device)\n",
    "            outputs, _ = model(inputs)\n",
    "            preds = outputs.argmax(dim=-1)  # Change this according to your model's output\n",
    "            predictions.extend(preds.cpu().numpy())\n",
    "            labels.extend(batch['labels'].cpu().numpy())  # Adjust if your dataset has a different label structure\n",
    "\n",
    "    accuracy = accuracy_score(labels, predictions)\n",
    "    return accuracy\n"
   ]
  },
  {
   "cell_type": "code",
   "execution_count": null,
   "metadata": {
    "vscode": {
     "languageId": "plaintext"
    }
   },
   "outputs": [],
   "source": [
    "accuracy = validate_model(model, val_dataloader)\n",
    "print(f\"Validation Accuracy: {accuracy:.4f}\")"
   ]
  }
 ],
 "metadata": {
  "language_info": {
   "name": "python"
  }
 },
 "nbformat": 4,
 "nbformat_minor": 2
}
